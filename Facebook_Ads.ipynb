{
  "nbformat": 4,
  "nbformat_minor": 0,
  "metadata": {
    "colab": {
      "name": "Facebook Ads.ipynb",
      "provenance": [],
      "collapsed_sections": []
    },
    "kernelspec": {
      "name": "python3",
      "display_name": "Python 3"
    },
    "language_info": {
      "name": "python"
    }
  },
  "cells": [
    {
      "cell_type": "markdown",
      "metadata": {
        "id": "hGKcFOv4QZfT"
      },
      "source": [
        "# Importing the Libraries"
      ]
    },
    {
      "cell_type": "code",
      "metadata": {
        "id": "-HZiK-wQQXM8"
      },
      "source": [
        "import numpy as np\n",
        "import pandas as pd\n",
        "import matplotlib.pyplot as plt\n",
        "import seaborn as sns"
      ],
      "execution_count": 1,
      "outputs": []
    },
    {
      "cell_type": "markdown",
      "metadata": {
        "id": "nq_BYGZURu8n"
      },
      "source": [
        "# Importing the Dataset"
      ]
    },
    {
      "cell_type": "code",
      "metadata": {
        "id": "fEBWutANRTii"
      },
      "source": [
        "dataset = pd.read_csv('Facebook_Ads_2.csv', encoding='ISO-8859-1')"
      ],
      "execution_count": 2,
      "outputs": []
    },
    {
      "cell_type": "code",
      "metadata": {
        "colab": {
          "base_uri": "https://localhost:8080/",
          "height": 206
        },
        "id": "taxAZgQAUB88",
        "outputId": "b985a73b-f19f-4f19-d9dd-9939150f006e"
      },
      "source": [
        "dataset.head()"
      ],
      "execution_count": 3,
      "outputs": [
        {
          "output_type": "execute_result",
          "data": {
            "text/plain": [
              "             Names                                             emails  \\\n",
              "0    Martina Avila  cubilia.Curae.Phasellus@quisaccumsanconvallis.edu   \n",
              "1    Harlan Barnes                                eu.dolor@diam.co.uk   \n",
              "2  Naomi Rodriquez  vulputate.mauris.sagittis@ametconsectetueradip...   \n",
              "3  Jade Cunningham                            malesuada@dignissim.com   \n",
              "4     Cedric Leach     felis.ullamcorper.viverra@egetmollislectus.net   \n",
              "\n",
              "        Country  Time Spent on Site       Salary  Clicked  \n",
              "0      Bulgaria           25.649648  55330.06006        0  \n",
              "1        Belize           32.456107  79049.07674        1  \n",
              "2       Algeria           20.945978  41098.60826        0  \n",
              "3  Cook Islands           54.039325  37143.35536        1  \n",
              "4        Brazil           34.249729  37355.11276        0  "
            ],
            "text/html": [
              "\n",
              "  <div id=\"df-f2ef5274-f273-4092-b6d6-1b757c87e691\">\n",
              "    <div class=\"colab-df-container\">\n",
              "      <div>\n",
              "<style scoped>\n",
              "    .dataframe tbody tr th:only-of-type {\n",
              "        vertical-align: middle;\n",
              "    }\n",
              "\n",
              "    .dataframe tbody tr th {\n",
              "        vertical-align: top;\n",
              "    }\n",
              "\n",
              "    .dataframe thead th {\n",
              "        text-align: right;\n",
              "    }\n",
              "</style>\n",
              "<table border=\"1\" class=\"dataframe\">\n",
              "  <thead>\n",
              "    <tr style=\"text-align: right;\">\n",
              "      <th></th>\n",
              "      <th>Names</th>\n",
              "      <th>emails</th>\n",
              "      <th>Country</th>\n",
              "      <th>Time Spent on Site</th>\n",
              "      <th>Salary</th>\n",
              "      <th>Clicked</th>\n",
              "    </tr>\n",
              "  </thead>\n",
              "  <tbody>\n",
              "    <tr>\n",
              "      <th>0</th>\n",
              "      <td>Martina Avila</td>\n",
              "      <td>cubilia.Curae.Phasellus@quisaccumsanconvallis.edu</td>\n",
              "      <td>Bulgaria</td>\n",
              "      <td>25.649648</td>\n",
              "      <td>55330.06006</td>\n",
              "      <td>0</td>\n",
              "    </tr>\n",
              "    <tr>\n",
              "      <th>1</th>\n",
              "      <td>Harlan Barnes</td>\n",
              "      <td>eu.dolor@diam.co.uk</td>\n",
              "      <td>Belize</td>\n",
              "      <td>32.456107</td>\n",
              "      <td>79049.07674</td>\n",
              "      <td>1</td>\n",
              "    </tr>\n",
              "    <tr>\n",
              "      <th>2</th>\n",
              "      <td>Naomi Rodriquez</td>\n",
              "      <td>vulputate.mauris.sagittis@ametconsectetueradip...</td>\n",
              "      <td>Algeria</td>\n",
              "      <td>20.945978</td>\n",
              "      <td>41098.60826</td>\n",
              "      <td>0</td>\n",
              "    </tr>\n",
              "    <tr>\n",
              "      <th>3</th>\n",
              "      <td>Jade Cunningham</td>\n",
              "      <td>malesuada@dignissim.com</td>\n",
              "      <td>Cook Islands</td>\n",
              "      <td>54.039325</td>\n",
              "      <td>37143.35536</td>\n",
              "      <td>1</td>\n",
              "    </tr>\n",
              "    <tr>\n",
              "      <th>4</th>\n",
              "      <td>Cedric Leach</td>\n",
              "      <td>felis.ullamcorper.viverra@egetmollislectus.net</td>\n",
              "      <td>Brazil</td>\n",
              "      <td>34.249729</td>\n",
              "      <td>37355.11276</td>\n",
              "      <td>0</td>\n",
              "    </tr>\n",
              "  </tbody>\n",
              "</table>\n",
              "</div>\n",
              "      <button class=\"colab-df-convert\" onclick=\"convertToInteractive('df-f2ef5274-f273-4092-b6d6-1b757c87e691')\"\n",
              "              title=\"Convert this dataframe to an interactive table.\"\n",
              "              style=\"display:none;\">\n",
              "        \n",
              "  <svg xmlns=\"http://www.w3.org/2000/svg\" height=\"24px\"viewBox=\"0 0 24 24\"\n",
              "       width=\"24px\">\n",
              "    <path d=\"M0 0h24v24H0V0z\" fill=\"none\"/>\n",
              "    <path d=\"M18.56 5.44l.94 2.06.94-2.06 2.06-.94-2.06-.94-.94-2.06-.94 2.06-2.06.94zm-11 1L8.5 8.5l.94-2.06 2.06-.94-2.06-.94L8.5 2.5l-.94 2.06-2.06.94zm10 10l.94 2.06.94-2.06 2.06-.94-2.06-.94-.94-2.06-.94 2.06-2.06.94z\"/><path d=\"M17.41 7.96l-1.37-1.37c-.4-.4-.92-.59-1.43-.59-.52 0-1.04.2-1.43.59L10.3 9.45l-7.72 7.72c-.78.78-.78 2.05 0 2.83L4 21.41c.39.39.9.59 1.41.59.51 0 1.02-.2 1.41-.59l7.78-7.78 2.81-2.81c.8-.78.8-2.07 0-2.86zM5.41 20L4 18.59l7.72-7.72 1.47 1.35L5.41 20z\"/>\n",
              "  </svg>\n",
              "      </button>\n",
              "      \n",
              "  <style>\n",
              "    .colab-df-container {\n",
              "      display:flex;\n",
              "      flex-wrap:wrap;\n",
              "      gap: 12px;\n",
              "    }\n",
              "\n",
              "    .colab-df-convert {\n",
              "      background-color: #E8F0FE;\n",
              "      border: none;\n",
              "      border-radius: 50%;\n",
              "      cursor: pointer;\n",
              "      display: none;\n",
              "      fill: #1967D2;\n",
              "      height: 32px;\n",
              "      padding: 0 0 0 0;\n",
              "      width: 32px;\n",
              "    }\n",
              "\n",
              "    .colab-df-convert:hover {\n",
              "      background-color: #E2EBFA;\n",
              "      box-shadow: 0px 1px 2px rgba(60, 64, 67, 0.3), 0px 1px 3px 1px rgba(60, 64, 67, 0.15);\n",
              "      fill: #174EA6;\n",
              "    }\n",
              "\n",
              "    [theme=dark] .colab-df-convert {\n",
              "      background-color: #3B4455;\n",
              "      fill: #D2E3FC;\n",
              "    }\n",
              "\n",
              "    [theme=dark] .colab-df-convert:hover {\n",
              "      background-color: #434B5C;\n",
              "      box-shadow: 0px 1px 3px 1px rgba(0, 0, 0, 0.15);\n",
              "      filter: drop-shadow(0px 1px 2px rgba(0, 0, 0, 0.3));\n",
              "      fill: #FFFFFF;\n",
              "    }\n",
              "  </style>\n",
              "\n",
              "      <script>\n",
              "        const buttonEl =\n",
              "          document.querySelector('#df-f2ef5274-f273-4092-b6d6-1b757c87e691 button.colab-df-convert');\n",
              "        buttonEl.style.display =\n",
              "          google.colab.kernel.accessAllowed ? 'block' : 'none';\n",
              "\n",
              "        async function convertToInteractive(key) {\n",
              "          const element = document.querySelector('#df-f2ef5274-f273-4092-b6d6-1b757c87e691');\n",
              "          const dataTable =\n",
              "            await google.colab.kernel.invokeFunction('convertToInteractive',\n",
              "                                                     [key], {});\n",
              "          if (!dataTable) return;\n",
              "\n",
              "          const docLinkHtml = 'Like what you see? Visit the ' +\n",
              "            '<a target=\"_blank\" href=https://colab.research.google.com/notebooks/data_table.ipynb>data table notebook</a>'\n",
              "            + ' to learn more about interactive tables.';\n",
              "          element.innerHTML = '';\n",
              "          dataTable['output_type'] = 'display_data';\n",
              "          await google.colab.output.renderOutput(dataTable, element);\n",
              "          const docLink = document.createElement('div');\n",
              "          docLink.innerHTML = docLinkHtml;\n",
              "          element.appendChild(docLink);\n",
              "        }\n",
              "      </script>\n",
              "    </div>\n",
              "  </div>\n",
              "  "
            ]
          },
          "metadata": {},
          "execution_count": 3
        }
      ]
    },
    {
      "cell_type": "code",
      "metadata": {
        "colab": {
          "base_uri": "https://localhost:8080/",
          "height": 206
        },
        "id": "DSM2j7GnULTU",
        "outputId": "4e33139e-87b2-490b-ee60-25924b0d51b5"
      },
      "source": [
        "dataset.tail()"
      ],
      "execution_count": 4,
      "outputs": [
        {
          "output_type": "execute_result",
          "data": {
            "text/plain": [
              "      Names                                   emails                Country  \\\n",
              "494   Rigel  egestas.blandit.Nam@semvitaealiquam.com  Sao Tome and Principe   \n",
              "495  Walter                      ligula@Cumsociis.ca                  Nepal   \n",
              "496   Vanna       Cum.sociis.natoque@Sedmolestie.edu               Zimbabwe   \n",
              "497   Pearl            penatibus.et@massanonante.com            Philippines   \n",
              "498    Nell        Quisque.varius@arcuVivamussit.net               Botswana   \n",
              "\n",
              "     Time Spent on Site       Salary  Clicked  \n",
              "494           19.222746  44969.13495        0  \n",
              "495           22.665662  41686.20425        0  \n",
              "496           35.320239  23989.80864        0  \n",
              "497           26.539170  31708.57054        0  \n",
              "498           32.386148  74331.35442        1  "
            ],
            "text/html": [
              "\n",
              "  <div id=\"df-e0dbdfc5-fa36-4951-a688-b3be3f9057d1\">\n",
              "    <div class=\"colab-df-container\">\n",
              "      <div>\n",
              "<style scoped>\n",
              "    .dataframe tbody tr th:only-of-type {\n",
              "        vertical-align: middle;\n",
              "    }\n",
              "\n",
              "    .dataframe tbody tr th {\n",
              "        vertical-align: top;\n",
              "    }\n",
              "\n",
              "    .dataframe thead th {\n",
              "        text-align: right;\n",
              "    }\n",
              "</style>\n",
              "<table border=\"1\" class=\"dataframe\">\n",
              "  <thead>\n",
              "    <tr style=\"text-align: right;\">\n",
              "      <th></th>\n",
              "      <th>Names</th>\n",
              "      <th>emails</th>\n",
              "      <th>Country</th>\n",
              "      <th>Time Spent on Site</th>\n",
              "      <th>Salary</th>\n",
              "      <th>Clicked</th>\n",
              "    </tr>\n",
              "  </thead>\n",
              "  <tbody>\n",
              "    <tr>\n",
              "      <th>494</th>\n",
              "      <td>Rigel</td>\n",
              "      <td>egestas.blandit.Nam@semvitaealiquam.com</td>\n",
              "      <td>Sao Tome and Principe</td>\n",
              "      <td>19.222746</td>\n",
              "      <td>44969.13495</td>\n",
              "      <td>0</td>\n",
              "    </tr>\n",
              "    <tr>\n",
              "      <th>495</th>\n",
              "      <td>Walter</td>\n",
              "      <td>ligula@Cumsociis.ca</td>\n",
              "      <td>Nepal</td>\n",
              "      <td>22.665662</td>\n",
              "      <td>41686.20425</td>\n",
              "      <td>0</td>\n",
              "    </tr>\n",
              "    <tr>\n",
              "      <th>496</th>\n",
              "      <td>Vanna</td>\n",
              "      <td>Cum.sociis.natoque@Sedmolestie.edu</td>\n",
              "      <td>Zimbabwe</td>\n",
              "      <td>35.320239</td>\n",
              "      <td>23989.80864</td>\n",
              "      <td>0</td>\n",
              "    </tr>\n",
              "    <tr>\n",
              "      <th>497</th>\n",
              "      <td>Pearl</td>\n",
              "      <td>penatibus.et@massanonante.com</td>\n",
              "      <td>Philippines</td>\n",
              "      <td>26.539170</td>\n",
              "      <td>31708.57054</td>\n",
              "      <td>0</td>\n",
              "    </tr>\n",
              "    <tr>\n",
              "      <th>498</th>\n",
              "      <td>Nell</td>\n",
              "      <td>Quisque.varius@arcuVivamussit.net</td>\n",
              "      <td>Botswana</td>\n",
              "      <td>32.386148</td>\n",
              "      <td>74331.35442</td>\n",
              "      <td>1</td>\n",
              "    </tr>\n",
              "  </tbody>\n",
              "</table>\n",
              "</div>\n",
              "      <button class=\"colab-df-convert\" onclick=\"convertToInteractive('df-e0dbdfc5-fa36-4951-a688-b3be3f9057d1')\"\n",
              "              title=\"Convert this dataframe to an interactive table.\"\n",
              "              style=\"display:none;\">\n",
              "        \n",
              "  <svg xmlns=\"http://www.w3.org/2000/svg\" height=\"24px\"viewBox=\"0 0 24 24\"\n",
              "       width=\"24px\">\n",
              "    <path d=\"M0 0h24v24H0V0z\" fill=\"none\"/>\n",
              "    <path d=\"M18.56 5.44l.94 2.06.94-2.06 2.06-.94-2.06-.94-.94-2.06-.94 2.06-2.06.94zm-11 1L8.5 8.5l.94-2.06 2.06-.94-2.06-.94L8.5 2.5l-.94 2.06-2.06.94zm10 10l.94 2.06.94-2.06 2.06-.94-2.06-.94-.94-2.06-.94 2.06-2.06.94z\"/><path d=\"M17.41 7.96l-1.37-1.37c-.4-.4-.92-.59-1.43-.59-.52 0-1.04.2-1.43.59L10.3 9.45l-7.72 7.72c-.78.78-.78 2.05 0 2.83L4 21.41c.39.39.9.59 1.41.59.51 0 1.02-.2 1.41-.59l7.78-7.78 2.81-2.81c.8-.78.8-2.07 0-2.86zM5.41 20L4 18.59l7.72-7.72 1.47 1.35L5.41 20z\"/>\n",
              "  </svg>\n",
              "      </button>\n",
              "      \n",
              "  <style>\n",
              "    .colab-df-container {\n",
              "      display:flex;\n",
              "      flex-wrap:wrap;\n",
              "      gap: 12px;\n",
              "    }\n",
              "\n",
              "    .colab-df-convert {\n",
              "      background-color: #E8F0FE;\n",
              "      border: none;\n",
              "      border-radius: 50%;\n",
              "      cursor: pointer;\n",
              "      display: none;\n",
              "      fill: #1967D2;\n",
              "      height: 32px;\n",
              "      padding: 0 0 0 0;\n",
              "      width: 32px;\n",
              "    }\n",
              "\n",
              "    .colab-df-convert:hover {\n",
              "      background-color: #E2EBFA;\n",
              "      box-shadow: 0px 1px 2px rgba(60, 64, 67, 0.3), 0px 1px 3px 1px rgba(60, 64, 67, 0.15);\n",
              "      fill: #174EA6;\n",
              "    }\n",
              "\n",
              "    [theme=dark] .colab-df-convert {\n",
              "      background-color: #3B4455;\n",
              "      fill: #D2E3FC;\n",
              "    }\n",
              "\n",
              "    [theme=dark] .colab-df-convert:hover {\n",
              "      background-color: #434B5C;\n",
              "      box-shadow: 0px 1px 3px 1px rgba(0, 0, 0, 0.15);\n",
              "      filter: drop-shadow(0px 1px 2px rgba(0, 0, 0, 0.3));\n",
              "      fill: #FFFFFF;\n",
              "    }\n",
              "  </style>\n",
              "\n",
              "      <script>\n",
              "        const buttonEl =\n",
              "          document.querySelector('#df-e0dbdfc5-fa36-4951-a688-b3be3f9057d1 button.colab-df-convert');\n",
              "        buttonEl.style.display =\n",
              "          google.colab.kernel.accessAllowed ? 'block' : 'none';\n",
              "\n",
              "        async function convertToInteractive(key) {\n",
              "          const element = document.querySelector('#df-e0dbdfc5-fa36-4951-a688-b3be3f9057d1');\n",
              "          const dataTable =\n",
              "            await google.colab.kernel.invokeFunction('convertToInteractive',\n",
              "                                                     [key], {});\n",
              "          if (!dataTable) return;\n",
              "\n",
              "          const docLinkHtml = 'Like what you see? Visit the ' +\n",
              "            '<a target=\"_blank\" href=https://colab.research.google.com/notebooks/data_table.ipynb>data table notebook</a>'\n",
              "            + ' to learn more about interactive tables.';\n",
              "          element.innerHTML = '';\n",
              "          dataTable['output_type'] = 'display_data';\n",
              "          await google.colab.output.renderOutput(dataTable, element);\n",
              "          const docLink = document.createElement('div');\n",
              "          docLink.innerHTML = docLinkHtml;\n",
              "          element.appendChild(docLink);\n",
              "        }\n",
              "      </script>\n",
              "    </div>\n",
              "  </div>\n",
              "  "
            ]
          },
          "metadata": {},
          "execution_count": 4
        }
      ]
    },
    {
      "cell_type": "markdown",
      "metadata": {
        "id": "S2vrsfP4UoH9"
      },
      "source": [
        "# Visualization of dataset"
      ]
    },
    {
      "cell_type": "code",
      "metadata": {
        "id": "Z7SeUhEeUtye"
      },
      "source": [
        "clicked = dataset[dataset['Clicked']==1]\n",
        "not_clicked = dataset[dataset['Clicked']==0]"
      ],
      "execution_count": 5,
      "outputs": []
    },
    {
      "cell_type": "code",
      "metadata": {
        "colab": {
          "base_uri": "https://localhost:8080/",
          "height": 206
        },
        "id": "UQLvA-WRU-gJ",
        "outputId": "86acb202-df94-44df-d9df-1734bcb903a6"
      },
      "source": [
        "clicked.head()"
      ],
      "execution_count": 6,
      "outputs": [
        {
          "output_type": "execute_result",
          "data": {
            "text/plain": [
              "             Names                       emails       Country  \\\n",
              "1    Harlan Barnes          eu.dolor@diam.co.uk        Belize   \n",
              "3  Jade Cunningham      malesuada@dignissim.com  Cook Islands   \n",
              "5     Carla Hester           mi@Aliquamerat.edu       Liberia   \n",
              "6   Griffin Rivera            vehicula@at.co.uk         Syria   \n",
              "8     Marny Obrien  Phasellus@sedsemegestas.org       Armenia   \n",
              "\n",
              "   Time Spent on Site       Salary  Clicked  \n",
              "1           32.456107  79049.07674        1  \n",
              "3           54.039325  37143.35536        1  \n",
              "5           52.009946  80642.65222        1  \n",
              "6           42.881370  61908.39815        1  \n",
              "8           40.698233  34281.11878        1  "
            ],
            "text/html": [
              "\n",
              "  <div id=\"df-96d2781c-f3ad-478b-a09c-c8a7b957ea2e\">\n",
              "    <div class=\"colab-df-container\">\n",
              "      <div>\n",
              "<style scoped>\n",
              "    .dataframe tbody tr th:only-of-type {\n",
              "        vertical-align: middle;\n",
              "    }\n",
              "\n",
              "    .dataframe tbody tr th {\n",
              "        vertical-align: top;\n",
              "    }\n",
              "\n",
              "    .dataframe thead th {\n",
              "        text-align: right;\n",
              "    }\n",
              "</style>\n",
              "<table border=\"1\" class=\"dataframe\">\n",
              "  <thead>\n",
              "    <tr style=\"text-align: right;\">\n",
              "      <th></th>\n",
              "      <th>Names</th>\n",
              "      <th>emails</th>\n",
              "      <th>Country</th>\n",
              "      <th>Time Spent on Site</th>\n",
              "      <th>Salary</th>\n",
              "      <th>Clicked</th>\n",
              "    </tr>\n",
              "  </thead>\n",
              "  <tbody>\n",
              "    <tr>\n",
              "      <th>1</th>\n",
              "      <td>Harlan Barnes</td>\n",
              "      <td>eu.dolor@diam.co.uk</td>\n",
              "      <td>Belize</td>\n",
              "      <td>32.456107</td>\n",
              "      <td>79049.07674</td>\n",
              "      <td>1</td>\n",
              "    </tr>\n",
              "    <tr>\n",
              "      <th>3</th>\n",
              "      <td>Jade Cunningham</td>\n",
              "      <td>malesuada@dignissim.com</td>\n",
              "      <td>Cook Islands</td>\n",
              "      <td>54.039325</td>\n",
              "      <td>37143.35536</td>\n",
              "      <td>1</td>\n",
              "    </tr>\n",
              "    <tr>\n",
              "      <th>5</th>\n",
              "      <td>Carla Hester</td>\n",
              "      <td>mi@Aliquamerat.edu</td>\n",
              "      <td>Liberia</td>\n",
              "      <td>52.009946</td>\n",
              "      <td>80642.65222</td>\n",
              "      <td>1</td>\n",
              "    </tr>\n",
              "    <tr>\n",
              "      <th>6</th>\n",
              "      <td>Griffin Rivera</td>\n",
              "      <td>vehicula@at.co.uk</td>\n",
              "      <td>Syria</td>\n",
              "      <td>42.881370</td>\n",
              "      <td>61908.39815</td>\n",
              "      <td>1</td>\n",
              "    </tr>\n",
              "    <tr>\n",
              "      <th>8</th>\n",
              "      <td>Marny Obrien</td>\n",
              "      <td>Phasellus@sedsemegestas.org</td>\n",
              "      <td>Armenia</td>\n",
              "      <td>40.698233</td>\n",
              "      <td>34281.11878</td>\n",
              "      <td>1</td>\n",
              "    </tr>\n",
              "  </tbody>\n",
              "</table>\n",
              "</div>\n",
              "      <button class=\"colab-df-convert\" onclick=\"convertToInteractive('df-96d2781c-f3ad-478b-a09c-c8a7b957ea2e')\"\n",
              "              title=\"Convert this dataframe to an interactive table.\"\n",
              "              style=\"display:none;\">\n",
              "        \n",
              "  <svg xmlns=\"http://www.w3.org/2000/svg\" height=\"24px\"viewBox=\"0 0 24 24\"\n",
              "       width=\"24px\">\n",
              "    <path d=\"M0 0h24v24H0V0z\" fill=\"none\"/>\n",
              "    <path d=\"M18.56 5.44l.94 2.06.94-2.06 2.06-.94-2.06-.94-.94-2.06-.94 2.06-2.06.94zm-11 1L8.5 8.5l.94-2.06 2.06-.94-2.06-.94L8.5 2.5l-.94 2.06-2.06.94zm10 10l.94 2.06.94-2.06 2.06-.94-2.06-.94-.94-2.06-.94 2.06-2.06.94z\"/><path d=\"M17.41 7.96l-1.37-1.37c-.4-.4-.92-.59-1.43-.59-.52 0-1.04.2-1.43.59L10.3 9.45l-7.72 7.72c-.78.78-.78 2.05 0 2.83L4 21.41c.39.39.9.59 1.41.59.51 0 1.02-.2 1.41-.59l7.78-7.78 2.81-2.81c.8-.78.8-2.07 0-2.86zM5.41 20L4 18.59l7.72-7.72 1.47 1.35L5.41 20z\"/>\n",
              "  </svg>\n",
              "      </button>\n",
              "      \n",
              "  <style>\n",
              "    .colab-df-container {\n",
              "      display:flex;\n",
              "      flex-wrap:wrap;\n",
              "      gap: 12px;\n",
              "    }\n",
              "\n",
              "    .colab-df-convert {\n",
              "      background-color: #E8F0FE;\n",
              "      border: none;\n",
              "      border-radius: 50%;\n",
              "      cursor: pointer;\n",
              "      display: none;\n",
              "      fill: #1967D2;\n",
              "      height: 32px;\n",
              "      padding: 0 0 0 0;\n",
              "      width: 32px;\n",
              "    }\n",
              "\n",
              "    .colab-df-convert:hover {\n",
              "      background-color: #E2EBFA;\n",
              "      box-shadow: 0px 1px 2px rgba(60, 64, 67, 0.3), 0px 1px 3px 1px rgba(60, 64, 67, 0.15);\n",
              "      fill: #174EA6;\n",
              "    }\n",
              "\n",
              "    [theme=dark] .colab-df-convert {\n",
              "      background-color: #3B4455;\n",
              "      fill: #D2E3FC;\n",
              "    }\n",
              "\n",
              "    [theme=dark] .colab-df-convert:hover {\n",
              "      background-color: #434B5C;\n",
              "      box-shadow: 0px 1px 3px 1px rgba(0, 0, 0, 0.15);\n",
              "      filter: drop-shadow(0px 1px 2px rgba(0, 0, 0, 0.3));\n",
              "      fill: #FFFFFF;\n",
              "    }\n",
              "  </style>\n",
              "\n",
              "      <script>\n",
              "        const buttonEl =\n",
              "          document.querySelector('#df-96d2781c-f3ad-478b-a09c-c8a7b957ea2e button.colab-df-convert');\n",
              "        buttonEl.style.display =\n",
              "          google.colab.kernel.accessAllowed ? 'block' : 'none';\n",
              "\n",
              "        async function convertToInteractive(key) {\n",
              "          const element = document.querySelector('#df-96d2781c-f3ad-478b-a09c-c8a7b957ea2e');\n",
              "          const dataTable =\n",
              "            await google.colab.kernel.invokeFunction('convertToInteractive',\n",
              "                                                     [key], {});\n",
              "          if (!dataTable) return;\n",
              "\n",
              "          const docLinkHtml = 'Like what you see? Visit the ' +\n",
              "            '<a target=\"_blank\" href=https://colab.research.google.com/notebooks/data_table.ipynb>data table notebook</a>'\n",
              "            + ' to learn more about interactive tables.';\n",
              "          element.innerHTML = '';\n",
              "          dataTable['output_type'] = 'display_data';\n",
              "          await google.colab.output.renderOutput(dataTable, element);\n",
              "          const docLink = document.createElement('div');\n",
              "          docLink.innerHTML = docLinkHtml;\n",
              "          element.appendChild(docLink);\n",
              "        }\n",
              "      </script>\n",
              "    </div>\n",
              "  </div>\n",
              "  "
            ]
          },
          "metadata": {},
          "execution_count": 6
        }
      ]
    },
    {
      "cell_type": "code",
      "metadata": {
        "colab": {
          "base_uri": "https://localhost:8080/"
        },
        "id": "1baOnZxGVV0u",
        "outputId": "bb6641ff-ad3a-4572-8202-a2a467a9ded9"
      },
      "source": [
        "print(\"Total =\", len(dataset))\n",
        "\n",
        "print(\"Number of customers who clicked on Ad =\", len(clicked))\n",
        "print(\"Percentage Clicked =\", 1.*len(clicked)/len(dataset)*100.0, \"%\")\n",
        " \n",
        "print(\"Did not Click =\", len(not_clicked))\n",
        "print(\"Percentage who did not Click =\", 1.*len(not_clicked)/len(dataset)*100.0, \"%\")"
      ],
      "execution_count": 7,
      "outputs": [
        {
          "output_type": "stream",
          "name": "stdout",
          "text": [
            "Total = 499\n",
            "Number of customers who clicked on Ad = 250\n",
            "Percentage Clicked = 50.1002004008016 %\n",
            "Did not Click = 249\n",
            "Percentage who did not Click = 49.899799599198396 %\n"
          ]
        }
      ]
    },
    {
      "cell_type": "code",
      "metadata": {
        "colab": {
          "base_uri": "https://localhost:8080/",
          "height": 351
        },
        "id": "-PcfkaOAVtmx",
        "outputId": "a5d667e8-d710-417f-9d24-d21ca61a9357"
      },
      "source": [
        "sns.scatterplot(dataset['Time Spent on Site'], dataset['Salary'], hue = dataset['Clicked'])"
      ],
      "execution_count": 8,
      "outputs": [
        {
          "output_type": "stream",
          "name": "stderr",
          "text": [
            "/usr/local/lib/python3.7/dist-packages/seaborn/_decorators.py:43: FutureWarning: Pass the following variables as keyword args: x, y. From version 0.12, the only valid positional argument will be `data`, and passing other arguments without an explicit keyword will result in an error or misinterpretation.\n",
            "  FutureWarning\n"
          ]
        },
        {
          "output_type": "execute_result",
          "data": {
            "text/plain": [
              "<matplotlib.axes._subplots.AxesSubplot at 0x7f653e92d910>"
            ]
          },
          "metadata": {},
          "execution_count": 8
        },
        {
          "output_type": "display_data",
          "data": {
            "text/plain": [
              "<Figure size 432x288 with 1 Axes>"
            ],
            "image/png": "[encoded data removed]"
          },
          "metadata": {
            "needs_background": "light"
          }
        }
      ]
    },
    {
      "cell_type": "code",
      "metadata": {
        "colab": {
          "base_uri": "https://localhost:8080/",
          "height": 458
        },
        "id": "4dNSd5XMU1qL",
        "outputId": "b9b83d9b-8175-4d84-edeb-573d6794e653"
      },
      "source": [
        "sns.jointplot(x= dataset['Time Spent on Site'], y=dataset['Salary'], kind='scatter', hue = dataset['Clicked'])"
      ],
      "execution_count": 9,
      "outputs": [
        {
          "output_type": "execute_result",
          "data": {
            "text/plain": [
              "<seaborn.axisgrid.JointGrid at 0x7f653e9cbe50>"
            ]
          },
          "metadata": {},
          "execution_count": 9
        },
        {
          "output_type": "display_data",
          "data": {
            "text/plain": [
              "<Figure size 432x432 with 3 Axes>"
            ],
            "image/png": "[encoded data removed]"
          },
          "metadata": {
            "needs_background": "light"
          }
        }
      ]
    },
    {
      "cell_type": "code",
      "metadata": {
        "colab": {
          "base_uri": "https://localhost:8080/",
          "height": 351
        },
        "id": "Al9hyvpQeLgb",
        "outputId": "0f436fe4-40d4-4aa2-8659-eb83ef554c58"
      },
      "source": [
        "plt.figure(figsize= (5,5))\n",
        "sns.boxplot(x= 'Clicked', y= 'Salary', data = dataset)"
      ],
      "execution_count": 10,
      "outputs": [
        {
          "output_type": "execute_result",
          "data": {
            "text/plain": [
              "<matplotlib.axes._subplots.AxesSubplot at 0x7f653db56150>"
            ]
          },
          "metadata": {},
          "execution_count": 10
        },
        {
          "output_type": "display_data",
          "data": {
            "text/plain": [
              "<Figure size 360x360 with 1 Axes>"
            ],
            "image/png": "[encoded data removed]"
          },
          "metadata": {
            "needs_background": "light"
          }
        }
      ]
    },
    {
      "cell_type": "code",
      "metadata": {
        "colab": {
          "base_uri": "https://localhost:8080/",
          "height": 351
        },
        "id": "XL4cr1IUesVe",
        "outputId": "7047642c-b62e-4dce-9735-faf268f02a1a"
      },
      "source": [
        "plt.figure(figsize= (5,5))\n",
        "sns.boxplot(x= 'Clicked', y= 'Time Spent on Site', data = dataset)"
      ],
      "execution_count": 11,
      "outputs": [
        {
          "output_type": "execute_result",
          "data": {
            "text/plain": [
              "<matplotlib.axes._subplots.AxesSubplot at 0x7f6537a49b90>"
            ]
          },
          "metadata": {},
          "execution_count": 11
        },
        {
          "output_type": "display_data",
          "data": {
            "text/plain": [
              "<Figure size 360x360 with 1 Axes>"
            ],
            "image/png": "[encoded data removed]"
          },
          "metadata": {
            "needs_background": "light"
          }
        }
      ]
    },
    {
      "cell_type": "code",
      "metadata": {
        "colab": {
          "base_uri": "https://localhost:8080/",
          "height": 283
        },
        "id": "F0oYm-nVe-Rd",
        "outputId": "7acedf89-28a5-40f6-bf61-9e29450f0252"
      },
      "source": [
        "dataset['Salary'].hist(bins = 20)"
      ],
      "execution_count": 12,
      "outputs": [
        {
          "output_type": "execute_result",
          "data": {
            "text/plain": [
              "<matplotlib.axes._subplots.AxesSubplot at 0x7f6537921e10>"
            ]
          },
          "metadata": {},
          "execution_count": 12
        },
        {
          "output_type": "display_data",
          "data": {
            "text/plain": [
              "<Figure size 432x288 with 1 Axes>"
            ],
            "image/png": "[encoded data removed]"
          },
          "metadata": {
            "needs_background": "light"
          }
        }
      ]
    },
    {
      "cell_type": "code",
      "metadata": {
        "colab": {
          "base_uri": "https://localhost:8080/",
          "height": 282
        },
        "id": "AoWGNbzjfU3c",
        "outputId": "f6b58606-f0ab-43d5-f120-852b17af5561"
      },
      "source": [
        "dataset['Time Spent on Site'].hist(bins = 40)"
      ],
      "execution_count": 13,
      "outputs": [
        {
          "output_type": "execute_result",
          "data": {
            "text/plain": [
              "<matplotlib.axes._subplots.AxesSubplot at 0x7f6537865b10>"
            ]
          },
          "metadata": {},
          "execution_count": 13
        },
        {
          "output_type": "display_data",
          "data": {
            "text/plain": [
              "<Figure size 432x288 with 1 Axes>"
            ],
            "image/png": "[encoded data removed]"
          },
          "metadata": {
            "needs_background": "light"
          }
        }
      ]
    },
    {
      "cell_type": "markdown",
      "metadata": {
        "id": "K2mVMdw0f-wT"
      },
      "source": [
        "# Cleaning the Data"
      ]
    },
    {
      "cell_type": "code",
      "metadata": {
        "colab": {
          "base_uri": "https://localhost:8080/",
          "height": 206
        },
        "id": "hXGTqy1tf-R1",
        "outputId": "d55087b8-276d-4703-dda9-c77359ba1c78"
      },
      "source": [
        "dataset.head()"
      ],
      "execution_count": 14,
      "outputs": [
        {
          "output_type": "execute_result",
          "data": {
            "text/plain": [
              "             Names                                             emails  \\\n",
              "0    Martina Avila  cubilia.Curae.Phasellus@quisaccumsanconvallis.edu   \n",
              "1    Harlan Barnes                                eu.dolor@diam.co.uk   \n",
              "2  Naomi Rodriquez  vulputate.mauris.sagittis@ametconsectetueradip...   \n",
              "3  Jade Cunningham                            malesuada@dignissim.com   \n",
              "4     Cedric Leach     felis.ullamcorper.viverra@egetmollislectus.net   \n",
              "\n",
              "        Country  Time Spent on Site       Salary  Clicked  \n",
              "0      Bulgaria           25.649648  55330.06006        0  \n",
              "1        Belize           32.456107  79049.07674        1  \n",
              "2       Algeria           20.945978  41098.60826        0  \n",
              "3  Cook Islands           54.039325  37143.35536        1  \n",
              "4        Brazil           34.249729  37355.11276        0  "
            ],
            "text/html": [
              "\n",
              "  <div id=\"df-50141d29-5829-4395-ab96-0e0c8f0318d9\">\n",
              "    <div class=\"colab-df-container\">\n",
              "      <div>\n",
              "<style scoped>\n",
              "    .dataframe tbody tr th:only-of-type {\n",
              "        vertical-align: middle;\n",
              "    }\n",
              "\n",
              "    .dataframe tbody tr th {\n",
              "        vertical-align: top;\n",
              "    }\n",
              "\n",
              "    .dataframe thead th {\n",
              "        text-align: right;\n",
              "    }\n",
              "</style>\n",
              "<table border=\"1\" class=\"dataframe\">\n",
              "  <thead>\n",
              "    <tr style=\"text-align: right;\">\n",
              "      <th></th>\n",
              "      <th>Names</th>\n",
              "      <th>emails</th>\n",
              "      <th>Country</th>\n",
              "      <th>Time Spent on Site</th>\n",
              "      <th>Salary</th>\n",
              "      <th>Clicked</th>\n",
              "    </tr>\n",
              "  </thead>\n",
              "  <tbody>\n",
              "    <tr>\n",
              "      <th>0</th>\n",
              "      <td>Martina Avila</td>\n",
              "      <td>cubilia.Curae.Phasellus@quisaccumsanconvallis.edu</td>\n",
              "      <td>Bulgaria</td>\n",
              "      <td>25.649648</td>\n",
              "      <td>55330.06006</td>\n",
              "      <td>0</td>\n",
              "    </tr>\n",
              "    <tr>\n",
              "      <th>1</th>\n",
              "      <td>Harlan Barnes</td>\n",
              "      <td>eu.dolor@diam.co.uk</td>\n",
              "      <td>Belize</td>\n",
              "      <td>32.456107</td>\n",
              "      <td>79049.07674</td>\n",
              "      <td>1</td>\n",
              "    </tr>\n",
              "    <tr>\n",
              "      <th>2</th>\n",
              "      <td>Naomi Rodriquez</td>\n",
              "      <td>vulputate.mauris.sagittis@ametconsectetueradip...</td>\n",
              "      <td>Algeria</td>\n",
              "      <td>20.945978</td>\n",
              "      <td>41098.60826</td>\n",
              "      <td>0</td>\n",
              "    </tr>\n",
              "    <tr>\n",
              "      <th>3</th>\n",
              "      <td>Jade Cunningham</td>\n",
              "      <td>malesuada@dignissim.com</td>\n",
              "      <td>Cook Islands</td>\n",
              "      <td>54.039325</td>\n",
              "      <td>37143.35536</td>\n",
              "      <td>1</td>\n",
              "    </tr>\n",
              "    <tr>\n",
              "      <th>4</th>\n",
              "      <td>Cedric Leach</td>\n",
              "      <td>felis.ullamcorper.viverra@egetmollislectus.net</td>\n",
              "      <td>Brazil</td>\n",
              "      <td>34.249729</td>\n",
              "      <td>37355.11276</td>\n",
              "      <td>0</td>\n",
              "    </tr>\n",
              "  </tbody>\n",
              "</table>\n",
              "</div>\n",
              "      <button class=\"colab-df-convert\" onclick=\"convertToInteractive('df-50141d29-5829-4395-ab96-0e0c8f0318d9')\"\n",
              "              title=\"Convert this dataframe to an interactive table.\"\n",
              "              style=\"display:none;\">\n",
              "        \n",
              "  <svg xmlns=\"http://www.w3.org/2000/svg\" height=\"24px\"viewBox=\"0 0 24 24\"\n",
              "       width=\"24px\">\n",
              "    <path d=\"M0 0h24v24H0V0z\" fill=\"none\"/>\n",
              "    <path d=\"M18.56 5.44l.94 2.06.94-2.06 2.06-.94-2.06-.94-.94-2.06-.94 2.06-2.06.94zm-11 1L8.5 8.5l.94-2.06 2.06-.94-2.06-.94L8.5 2.5l-.94 2.06-2.06.94zm10 10l.94 2.06.94-2.06 2.06-.94-2.06-.94-.94-2.06-.94 2.06-2.06.94z\"/><path d=\"M17.41 7.96l-1.37-1.37c-.4-.4-.92-.59-1.43-.59-.52 0-1.04.2-1.43.59L10.3 9.45l-7.72 7.72c-.78.78-.78 2.05 0 2.83L4 21.41c.39.39.9.59 1.41.59.51 0 1.02-.2 1.41-.59l7.78-7.78 2.81-2.81c.8-.78.8-2.07 0-2.86zM5.41 20L4 18.59l7.72-7.72 1.47 1.35L5.41 20z\"/>\n",
              "  </svg>\n",
              "      </button>\n",
              "      \n",
              "  <style>\n",
              "    .colab-df-container {\n",
              "      display:flex;\n",
              "      flex-wrap:wrap;\n",
              "      gap: 12px;\n",
              "    }\n",
              "\n",
              "    .colab-df-convert {\n",
              "      background-color: #E8F0FE;\n",
              "      border: none;\n",
              "      border-radius: 50%;\n",
              "      cursor: pointer;\n",
              "      display: none;\n",
              "      fill: #1967D2;\n",
              "      height: 32px;\n",
              "      padding: 0 0 0 0;\n",
              "      width: 32px;\n",
              "    }\n",
              "\n",
              "    .colab-df-convert:hover {\n",
              "      background-color: #E2EBFA;\n",
              "      box-shadow: 0px 1px 2px rgba(60, 64, 67, 0.3), 0px 1px 3px 1px rgba(60, 64, 67, 0.15);\n",
              "      fill: #174EA6;\n",
              "    }\n",
              "\n",
              "    [theme=dark] .colab-df-convert {\n",
              "      background-color: #3B4455;\n",
              "      fill: #D2E3FC;\n",
              "    }\n",
              "\n",
              "    [theme=dark] .colab-df-convert:hover {\n",
              "      background-color: #434B5C;\n",
              "      box-shadow: 0px 1px 3px 1px rgba(0, 0, 0, 0.15);\n",
              "      filter: drop-shadow(0px 1px 2px rgba(0, 0, 0, 0.3));\n",
              "      fill: #FFFFFF;\n",
              "    }\n",
              "  </style>\n",
              "\n",
              "      <script>\n",
              "        const buttonEl =\n",
              "          document.querySelector('#df-50141d29-5829-4395-ab96-0e0c8f0318d9 button.colab-df-convert');\n",
              "        buttonEl.style.display =\n",
              "          google.colab.kernel.accessAllowed ? 'block' : 'none';\n",
              "\n",
              "        async function convertToInteractive(key) {\n",
              "          const element = document.querySelector('#df-50141d29-5829-4395-ab96-0e0c8f0318d9');\n",
              "          const dataTable =\n",
              "            await google.colab.kernel.invokeFunction('convertToInteractive',\n",
              "                                                     [key], {});\n",
              "          if (!dataTable) return;\n",
              "\n",
              "          const docLinkHtml = 'Like what you see? Visit the ' +\n",
              "            '<a target=\"_blank\" href=https://colab.research.google.com/notebooks/data_table.ipynb>data table notebook</a>'\n",
              "            + ' to learn more about interactive tables.';\n",
              "          element.innerHTML = '';\n",
              "          dataTable['output_type'] = 'display_data';\n",
              "          await google.colab.output.renderOutput(dataTable, element);\n",
              "          const docLink = document.createElement('div');\n",
              "          docLink.innerHTML = docLinkHtml;\n",
              "          element.appendChild(docLink);\n",
              "        }\n",
              "      </script>\n",
              "    </div>\n",
              "  </div>\n",
              "  "
            ]
          },
          "metadata": {},
          "execution_count": 14
        }
      ]
    },
    {
      "cell_type": "code",
      "metadata": {
        "id": "RJpeOYvygJ0_"
      },
      "source": [
        "dataset.drop(['Names', 'emails', 'Country'], axis = 1, inplace = True)"
      ],
      "execution_count": 15,
      "outputs": []
    },
    {
      "cell_type": "code",
      "metadata": {
        "colab": {
          "base_uri": "https://localhost:8080/",
          "height": 424
        },
        "id": "5P6Uni1ggbzk",
        "outputId": "7932167a-ad1c-4629-b45e-19ae34ac2529"
      },
      "source": [
        "dataset"
      ],
      "execution_count": 16,
      "outputs": [
        {
          "output_type": "execute_result",
          "data": {
            "text/plain": [
              "     Time Spent on Site       Salary  Clicked\n",
              "0             25.649648  55330.06006        0\n",
              "1             32.456107  79049.07674        1\n",
              "2             20.945978  41098.60826        0\n",
              "3             54.039325  37143.35536        1\n",
              "4             34.249729  37355.11276        0\n",
              "..                  ...          ...      ...\n",
              "494           19.222746  44969.13495        0\n",
              "495           22.665662  41686.20425        0\n",
              "496           35.320239  23989.80864        0\n",
              "497           26.539170  31708.57054        0\n",
              "498           32.386148  74331.35442        1\n",
              "\n",
              "[499 rows x 3 columns]"
            ],
            "text/html": [
              "\n",
              "  <div id=\"df-79e3f2af-1c93-49ee-8a65-b14537c6acab\">\n",
              "    <div class=\"colab-df-container\">\n",
              "      <div>\n",
              "<style scoped>\n",
              "    .dataframe tbody tr th:only-of-type {\n",
              "        vertical-align: middle;\n",
              "    }\n",
              "\n",
              "    .dataframe tbody tr th {\n",
              "        vertical-align: top;\n",
              "    }\n",
              "\n",
              "    .dataframe thead th {\n",
              "        text-align: right;\n",
              "    }\n",
              "</style>\n",
              "<table border=\"1\" class=\"dataframe\">\n",
              "  <thead>\n",
              "    <tr style=\"text-align: right;\">\n",
              "      <th></th>\n",
              "      <th>Time Spent on Site</th>\n",
              "      <th>Salary</th>\n",
              "      <th>Clicked</th>\n",
              "    </tr>\n",
              "  </thead>\n",
              "  <tbody>\n",
              "    <tr>\n",
              "      <th>0</th>\n",
              "      <td>25.649648</td>\n",
              "      <td>55330.06006</td>\n",
              "      <td>0</td>\n",
              "    </tr>\n",
              "    <tr>\n",
              "      <th>1</th>\n",
              "      <td>32.456107</td>\n",
              "      <td>79049.07674</td>\n",
              "      <td>1</td>\n",
              "    </tr>\n",
              "    <tr>\n",
              "      <th>2</th>\n",
              "      <td>20.945978</td>\n",
              "      <td>41098.60826</td>\n",
              "      <td>0</td>\n",
              "    </tr>\n",
              "    <tr>\n",
              "      <th>3</th>\n",
              "      <td>54.039325</td>\n",
              "      <td>37143.35536</td>\n",
              "      <td>1</td>\n",
              "    </tr>\n",
              "    <tr>\n",
              "      <th>4</th>\n",
              "      <td>34.249729</td>\n",
              "      <td>37355.11276</td>\n",
              "      <td>0</td>\n",
              "    </tr>\n",
              "    <tr>\n",
              "      <th>...</th>\n",
              "      <td>...</td>\n",
              "      <td>...</td>\n",
              "      <td>...</td>\n",
              "    </tr>\n",
              "    <tr>\n",
              "      <th>494</th>\n",
              "      <td>19.222746</td>\n",
              "      <td>44969.13495</td>\n",
              "      <td>0</td>\n",
              "    </tr>\n",
              "    <tr>\n",
              "      <th>495</th>\n",
              "      <td>22.665662</td>\n",
              "      <td>41686.20425</td>\n",
              "      <td>0</td>\n",
              "    </tr>\n",
              "    <tr>\n",
              "      <th>496</th>\n",
              "      <td>35.320239</td>\n",
              "      <td>23989.80864</td>\n",
              "      <td>0</td>\n",
              "    </tr>\n",
              "    <tr>\n",
              "      <th>497</th>\n",
              "      <td>26.539170</td>\n",
              "      <td>31708.57054</td>\n",
              "      <td>0</td>\n",
              "    </tr>\n",
              "    <tr>\n",
              "      <th>498</th>\n",
              "      <td>32.386148</td>\n",
              "      <td>74331.35442</td>\n",
              "      <td>1</td>\n",
              "    </tr>\n",
              "  </tbody>\n",
              "</table>\n",
              "<p>499 rows × 3 columns</p>\n",
              "</div>\n",
              "      <button class=\"colab-df-convert\" onclick=\"convertToInteractive('df-79e3f2af-1c93-49ee-8a65-b14537c6acab')\"\n",
              "              title=\"Convert this dataframe to an interactive table.\"\n",
              "              style=\"display:none;\">\n",
              "        \n",
              "  <svg xmlns=\"http://www.w3.org/2000/svg\" height=\"24px\"viewBox=\"0 0 24 24\"\n",
              "       width=\"24px\">\n",
              "    <path d=\"M0 0h24v24H0V0z\" fill=\"none\"/>\n",
              "    <path d=\"M18.56 5.44l.94 2.06.94-2.06 2.06-.94-2.06-.94-.94-2.06-.94 2.06-2.06.94zm-11 1L8.5 8.5l.94-2.06 2.06-.94-2.06-.94L8.5 2.5l-.94 2.06-2.06.94zm10 10l.94 2.06.94-2.06 2.06-.94-2.06-.94-.94-2.06-.94 2.06-2.06.94z\"/><path d=\"M17.41 7.96l-1.37-1.37c-.4-.4-.92-.59-1.43-.59-.52 0-1.04.2-1.43.59L10.3 9.45l-7.72 7.72c-.78.78-.78 2.05 0 2.83L4 21.41c.39.39.9.59 1.41.59.51 0 1.02-.2 1.41-.59l7.78-7.78 2.81-2.81c.8-.78.8-2.07 0-2.86zM5.41 20L4 18.59l7.72-7.72 1.47 1.35L5.41 20z\"/>\n",
              "  </svg>\n",
              "      </button>\n",
              "      \n",
              "  <style>\n",
              "    .colab-df-container {\n",
              "      display:flex;\n",
              "      flex-wrap:wrap;\n",
              "      gap: 12px;\n",
              "    }\n",
              "\n",
              "    .colab-df-convert {\n",
              "      background-color: #E8F0FE;\n",
              "      border: none;\n",
              "      border-radius: 50%;\n",
              "      cursor: pointer;\n",
              "      display: none;\n",
              "      fill: #1967D2;\n",
              "      height: 32px;\n",
              "      padding: 0 0 0 0;\n",
              "      width: 32px;\n",
              "    }\n",
              "\n",
              "    .colab-df-convert:hover {\n",
              "      background-color: #E2EBFA;\n",
              "      box-shadow: 0px 1px 2px rgba(60, 64, 67, 0.3), 0px 1px 3px 1px rgba(60, 64, 67, 0.15);\n",
              "      fill: #174EA6;\n",
              "    }\n",
              "\n",
              "    [theme=dark] .colab-df-convert {\n",
              "      background-color: #3B4455;\n",
              "      fill: #D2E3FC;\n",
              "    }\n",
              "\n",
              "    [theme=dark] .colab-df-convert:hover {\n",
              "      background-color: #434B5C;\n",
              "      box-shadow: 0px 1px 3px 1px rgba(0, 0, 0, 0.15);\n",
              "      filter: drop-shadow(0px 1px 2px rgba(0, 0, 0, 0.3));\n",
              "      fill: #FFFFFF;\n",
              "    }\n",
              "  </style>\n",
              "\n",
              "      <script>\n",
              "        const buttonEl =\n",
              "          document.querySelector('#df-79e3f2af-1c93-49ee-8a65-b14537c6acab button.colab-df-convert');\n",
              "        buttonEl.style.display =\n",
              "          google.colab.kernel.accessAllowed ? 'block' : 'none';\n",
              "\n",
              "        async function convertToInteractive(key) {\n",
              "          const element = document.querySelector('#df-79e3f2af-1c93-49ee-8a65-b14537c6acab');\n",
              "          const dataTable =\n",
              "            await google.colab.kernel.invokeFunction('convertToInteractive',\n",
              "                                                     [key], {});\n",
              "          if (!dataTable) return;\n",
              "\n",
              "          const docLinkHtml = 'Like what you see? Visit the ' +\n",
              "            '<a target=\"_blank\" href=https://colab.research.google.com/notebooks/data_table.ipynb>data table notebook</a>'\n",
              "            + ' to learn more about interactive tables.';\n",
              "          element.innerHTML = '';\n",
              "          dataTable['output_type'] = 'display_data';\n",
              "          await google.colab.output.renderOutput(dataTable, element);\n",
              "          const docLink = document.createElement('div');\n",
              "          docLink.innerHTML = docLinkHtml;\n",
              "          element.appendChild(docLink);\n",
              "        }\n",
              "      </script>\n",
              "    </div>\n",
              "  </div>\n",
              "  "
            ]
          },
          "metadata": {},
          "execution_count": 16
        }
      ]
    },
    {
      "cell_type": "code",
      "metadata": {
        "id": "h3ianVDNhCCn"
      },
      "source": [
        "X = dataset.iloc[:, :-1].values\n",
        "y = dataset.iloc[:, -1].values"
      ],
      "execution_count": 17,
      "outputs": []
    },
    {
      "cell_type": "markdown",
      "metadata": {
        "id": "mId8CXz9SIAP"
      },
      "source": [
        "# Splitting the dataset into training and testset"
      ]
    },
    {
      "cell_type": "code",
      "metadata": {
        "id": "h2dwanbiSOrU"
      },
      "source": [
        "from sklearn.model_selection import train_test_split\n",
        "X_train, X_test, y_train, y_test = train_test_split(X, y, test_size = 0.25, random_state = 0)"
      ],
      "execution_count": 18,
      "outputs": []
    },
    {
      "cell_type": "code",
      "metadata": {
        "id": "wbzUanV8jNVC",
        "colab": {
          "base_uri": "https://localhost:8080/"
        },
        "outputId": "f8fffae4-aa2a-4999-f9d6-4953778da4d7"
      },
      "source": [
        "X_train"
      ],
      "execution_count": 19,
      "outputs": [
        {
          "output_type": "execute_result",
          "data": {
            "text/plain": [
              "array([[3.14233710e+01, 6.30276565e+04],\n",
              "       [3.68088102e+01, 8.12824122e+04],\n",
              "       [3.09168263e+01, 1.91234664e+04],\n",
              "       [3.01935619e+01, 4.38217606e+04],\n",
              "       [3.86187187e+01, 5.83652099e+04],\n",
              "       [3.69023777e+01, 3.25830242e+04],\n",
              "       [3.34892043e+01, 8.18233396e+04],\n",
              "       [3.13600177e+01, 5.46555805e+04],\n",
              "       [2.74320282e+01, 4.08144763e+04],\n",
              "       [2.30545686e+01, 3.79809265e+04],\n",
              "       [2.38653708e+01, 2.34398678e+04],\n",
              "       [2.53668084e+01, 3.71920171e+04],\n",
              "       [1.50483464e+01, 9.76462204e+04],\n",
              "       [2.30900303e+01, 4.06486939e+04],\n",
              "       [2.93024745e+01, 6.71909142e+04],\n",
              "       [3.65963509e+01, 7.22433880e+04],\n",
              "       [2.07768912e+01, 2.56426419e+04],\n",
              "       [3.82419630e+01, 5.28409131e+04],\n",
              "       [3.98205393e+01, 7.05033132e+04],\n",
              "       [4.32815864e+01, 5.41236465e+04],\n",
              "       [3.42497288e+01, 3.73551128e+04],\n",
              "       [2.87550671e+01, 6.91307914e+04],\n",
              "       [4.37509751e+01, 5.07779969e+04],\n",
              "       [4.05024428e+01, 5.26236495e+04],\n",
              "       [5.20099460e+01, 8.06426522e+04],\n",
              "       [3.47208925e+01, 8.07450096e+04],\n",
              "       [2.63401697e+01, 3.72252184e+04],\n",
              "       [2.34295576e+01, 2.62158445e+04],\n",
              "       [5.00000000e+00, 4.73295658e+04],\n",
              "       [2.34040158e+01, 6.50570982e+04],\n",
              "       [4.22491897e+01, 3.22150995e+04],\n",
              "       [3.51243059e+01, 7.14804800e+04],\n",
              "       [1.71035757e+01, 6.16617652e+04],\n",
              "       [3.29782551e+01, 8.07118539e+04],\n",
              "       [3.77165819e+01, 6.46959770e+04],\n",
              "       [1.81812869e+01, 7.66354856e+04],\n",
              "       [2.91761896e+01, 3.76848619e+04],\n",
              "       [4.44492861e+01, 7.80397881e+04],\n",
              "       [4.26448395e+01, 6.92626286e+04],\n",
              "       [2.60391521e+01, 7.49110438e+04],\n",
              "       [3.76250690e+01, 5.10373533e+04],\n",
              "       [3.37387837e+01, 7.00334087e+04],\n",
              "       [5.36642156e+01, 5.32103591e+04],\n",
              "       [3.23861478e+01, 7.43313544e+04],\n",
              "       [2.82743386e+01, 8.23956369e+04],\n",
              "       [3.75858120e+01, 2.37741186e+04],\n",
              "       [4.88615514e+01, 7.31418533e+04],\n",
              "       [2.50876170e+01, 6.16533831e+04],\n",
              "       [4.01293959e+01, 7.55940569e+04],\n",
              "       [2.26656616e+01, 4.16862043e+04],\n",
              "       [2.87094124e+01, 6.20576208e+04],\n",
              "       [1.89299435e+01, 6.49805059e+04],\n",
              "       [2.62443824e+01, 6.13471666e+04],\n",
              "       [1.32192063e+01, 4.16868220e+04],\n",
              "       [3.38006386e+01, 4.55029770e+04],\n",
              "       [4.45507249e+01, 5.85982680e+04],\n",
              "       [2.55784141e+01, 5.20516990e+03],\n",
              "       [2.59102767e+01, 2.00000000e+01],\n",
              "       [4.28852972e+01, 5.81622850e+04],\n",
              "       [3.15183734e+01, 3.52772568e+04],\n",
              "       [4.56635019e+01, 7.78794670e+04],\n",
              "       [3.53132725e+01, 5.48460347e+04],\n",
              "       [3.86141982e+01, 6.71351687e+04],\n",
              "       [3.53577092e+01, 2.51504865e+04],\n",
              "       [2.57989330e+01, 3.05411407e+04],\n",
              "       [3.09688672e+01, 2.97248206e+04],\n",
              "       [3.69992238e+01, 4.49688217e+04],\n",
              "       [1.18632392e+01, 4.56220797e+04],\n",
              "       [1.19312672e+01, 5.40936393e+04],\n",
              "       [3.63245104e+01, 7.65481526e+04],\n",
              "       [4.38804479e+01, 7.73716486e+04],\n",
              "       [3.64981020e+01, 9.43154570e+04],\n",
              "       [4.44626110e+01, 6.30841640e+04],\n",
              "       [4.88701755e+01, 3.47744441e+04],\n",
              "       [4.05230999e+01, 7.73750093e+04],\n",
              "       [2.94685012e+01, 6.91074801e+04],\n",
              "       [3.71130641e+01, 7.62215378e+04],\n",
              "       [2.51426733e+01, 5.51603155e+04],\n",
              "       [2.07061007e+01, 7.14772354e+03],\n",
              "       [3.09678423e+01, 7.35653177e+04],\n",
              "       [4.29195153e+01, 5.82811104e+04],\n",
              "       [2.54053312e+01, 1.85417346e+04],\n",
              "       [3.75289036e+01, 6.28503249e+04],\n",
              "       [2.98597461e+01, 4.94642315e+04],\n",
              "       [2.99884778e+01, 7.70597541e+04],\n",
              "       [4.16282937e+01, 6.31236795e+04],\n",
              "       [2.48800244e+01, 4.59245731e+04],\n",
              "       [2.33583459e+01, 6.04214985e+04],\n",
              "       [3.02230794e+01, 3.34663045e+04],\n",
              "       [2.09459779e+01, 4.10986083e+04],\n",
              "       [3.82460146e+01, 9.51001224e+04],\n",
              "       [2.47615633e+01, 3.84844232e+04],\n",
              "       [1.05088058e+01, 3.93819303e+04],\n",
              "       [3.35898056e+01, 5.88336809e+04],\n",
              "       [4.02620984e+01, 6.02817066e+04],\n",
              "       [3.12469528e+01, 7.60643837e+04],\n",
              "       [3.36216471e+01, 5.23472683e+04],\n",
              "       [5.31530788e+01, 4.32935072e+04],\n",
              "       [3.22728796e+01, 5.20206482e+04],\n",
              "       [4.16975275e+01, 5.45209872e+04],\n",
              "       [2.70225659e+01, 4.97952566e+04],\n",
              "       [3.55764783e+01, 8.30649588e+04],\n",
              "       [1.99191528e+01, 3.02012546e+04],\n",
              "       [4.70029177e+01, 6.72504280e+04],\n",
              "       [4.21360295e+01, 6.02607094e+04],\n",
              "       [3.59327372e+01, 3.16440008e+04],\n",
              "       [2.43522694e+01, 3.99418770e+04],\n",
              "       [3.92505596e+01, 4.25048807e+04],\n",
              "       [3.99038194e+01, 6.62936664e+04],\n",
              "       [3.71732155e+01, 6.37504156e+04],\n",
              "       [3.60570632e+01, 5.01058751e+04],\n",
              "       [4.20668915e+01, 8.32775478e+04],\n",
              "       [3.45075444e+01, 9.28476870e+04],\n",
              "       [5.13421647e+01, 4.56862872e+04],\n",
              "       [2.90471256e+01, 3.91057208e+04],\n",
              "       [4.65255251e+01, 8.65549597e+04],\n",
              "       [2.53150925e+01, 8.24522050e+04],\n",
              "       [2.88808244e+01, 3.75927751e+04],\n",
              "       [3.09847257e+01, 1.31762478e+04],\n",
              "       [2.55517556e+01, 2.10766039e+04],\n",
              "       [2.75763785e+01, 6.58516299e+04],\n",
              "       [2.41169889e+01, 4.76988250e+04],\n",
              "       [3.72736113e+01, 5.18749784e+04],\n",
              "       [1.76520265e+01, 4.44822280e+04],\n",
              "       [2.24559772e+01, 4.77700703e+04],\n",
              "       [2.32772817e+01, 4.07650438e+04],\n",
              "       [4.05171459e+01, 6.83686549e+04],\n",
              "       [3.67657158e+01, 5.34644264e+04],\n",
              "       [1.90893032e+01, 3.92798893e+04],\n",
              "       [2.88636415e+01, 5.55952863e+04],\n",
              "       [3.05759060e+01, 6.57428549e+04],\n",
              "       [4.19628357e+01, 6.34792556e+04],\n",
              "       [2.24005459e+01, 4.84320286e+04],\n",
              "       [3.61465810e+01, 7.01632283e+04],\n",
              "       [3.48429402e+01, 3.71456330e+04],\n",
              "       [2.47085321e+01, 5.81645968e+04],\n",
              "       [3.59575676e+01, 2.36833077e+04],\n",
              "       [1.55571184e+01, 5.50529108e+04],\n",
              "       [3.90560356e+01, 2.91783610e+04],\n",
              "       [4.59108749e+01, 7.33738833e+04],\n",
              "       [3.10091944e+01, 5.11629918e+04],\n",
              "       [3.32317457e+01, 3.37791062e+04],\n",
              "       [3.37346415e+01, 6.43891442e+04],\n",
              "       [3.07288550e+01, 6.70222730e+04],\n",
              "       [4.07362791e+01, 3.53232010e+04],\n",
              "       [3.58344010e+01, 5.53337266e+04],\n",
              "       [2.89227932e+01, 4.01108134e+04],\n",
              "       [2.52074011e+01, 7.78881047e+04],\n",
              "       [4.06265620e+01, 5.94773823e+04],\n",
              "       [4.75338721e+01, 9.30244902e+04],\n",
              "       [1.74760982e+01, 4.14639525e+04],\n",
              "       [3.84835203e+01, 4.43716033e+04],\n",
              "       [1.87660715e+01, 3.94139610e+04],\n",
              "       [4.67292085e+01, 6.99166687e+04],\n",
              "       [2.83718984e+01, 2.59332721e+04],\n",
              "       [3.05699441e+01, 6.79629143e+04],\n",
              "       [2.97218206e+01, 7.72404617e+04],\n",
              "       [3.83222896e+01, 5.33603852e+04],\n",
              "       [3.21996490e+01, 3.12847347e+04],\n",
              "       [3.49456435e+01, 3.98152116e+04],\n",
              "       [4.42354581e+01, 9.04593418e+04],\n",
              "       [2.80828173e+01, 5.38798649e+04],\n",
              "       [3.18710838e+01, 5.68627176e+04],\n",
              "       [3.24431111e+01, 5.16776990e+04],\n",
              "       [4.21536527e+01, 4.84468270e+04],\n",
              "       [2.83759392e+01, 9.01441027e+04],\n",
              "       [2.32967542e+01, 5.25647603e+04],\n",
              "       [3.40603181e+01, 5.59829773e+04],\n",
              "       [3.58429434e+01, 3.40393164e+04],\n",
              "       [3.57666657e+01, 8.56624067e+04],\n",
              "       [2.62983302e+01, 6.53985233e+04],\n",
              "       [3.05154930e+01, 1.20660167e+04],\n",
              "       [3.06883631e+01, 8.11296120e+04],\n",
              "       [4.01464219e+01, 7.44447505e+04],\n",
              "       [4.64672263e+01, 6.89877084e+04],\n",
              "       [3.86204546e+01, 4.83434430e+04],\n",
              "       [2.46337620e+01, 2.77924584e+04],\n",
              "       [4.65407082e+01, 4.86634947e+04],\n",
              "       [4.62940030e+01, 5.15310813e+04],\n",
              "       [3.73036174e+01, 6.20529800e+04],\n",
              "       [2.46152275e+01, 3.47217486e+04],\n",
              "       [2.12182337e+01, 3.51163004e+04],\n",
              "       [3.29495012e+01, 5.82441939e+04],\n",
              "       [4.27702221e+01, 7.06512880e+04],\n",
              "       [3.53202387e+01, 2.39898086e+04],\n",
              "       [2.04208922e+01, 4.01141562e+04],\n",
              "       [4.16906638e+01, 9.01061368e+04],\n",
              "       [2.34963782e+01, 4.33450950e+04],\n",
              "       [3.88574063e+01, 5.53588182e+04],\n",
              "       [4.10959602e+01, 4.94633813e+04],\n",
              "       [2.74554865e+01, 4.01066055e+04],\n",
              "       [3.35211027e+01, 5.68019297e+04],\n",
              "       [3.03911016e+01, 5.95194309e+04],\n",
              "       [4.02186098e+01, 6.74915973e+04],\n",
              "       [3.64545684e+01, 4.91028313e+04],\n",
              "       [4.46367583e+01, 3.12828629e+04],\n",
              "       [3.77133500e+01, 5.56427984e+04],\n",
              "       [4.64031668e+01, 5.60888412e+04],\n",
              "       [1.92227465e+01, 4.49691349e+04],\n",
              "       [3.94615261e+01, 3.38436573e+04],\n",
              "       [1.62785413e+01, 3.81544187e+04],\n",
              "       [2.09270422e+01, 4.84517856e+04],\n",
              "       [2.78338319e+01, 5.16444933e+04],\n",
              "       [3.68194876e+01, 7.50994215e+04],\n",
              "       [4.41374215e+01, 5.91564481e+04],\n",
              "       [3.55246959e+01, 5.76413931e+04],\n",
              "       [4.31409979e+01, 6.38319352e+04],\n",
              "       [5.40393248e+01, 3.71433554e+04],\n",
              "       [3.35228988e+01, 5.07025233e+04],\n",
              "       [3.94479733e+01, 8.19588499e+04],\n",
              "       [2.04931223e+01, 4.57289518e+04],\n",
              "       [2.26276345e+01, 2.50311485e+04],\n",
              "       [2.64081753e+01, 2.83492112e+04],\n",
              "       [3.35206399e+01, 5.08886432e+04],\n",
              "       [3.15848147e+01, 2.94242919e+04],\n",
              "       [3.70148953e+01, 7.30572445e+04],\n",
              "       [4.11023440e+01, 8.24049824e+04],\n",
              "       [4.54947046e+01, 6.76608800e+04],\n",
              "       [1.31940548e+01, 2.42310876e+04],\n",
              "       [2.98234139e+01, 4.18080756e+04],\n",
              "       [3.29502601e+01, 4.31351392e+04],\n",
              "       [2.78707542e+01, 2.35527653e+04],\n",
              "       [2.24622381e+01, 7.05078497e+03],\n",
              "       [3.35278138e+01, 6.16304272e+04],\n",
              "       [3.45308979e+01, 3.02219371e+04],\n",
              "       [3.42496271e+01, 4.09729123e+04],\n",
              "       [3.17184722e+01, 7.30469351e+04],\n",
              "       [2.93080549e+01, 3.82412229e+04],\n",
              "       [4.19899262e+01, 5.47269945e+04],\n",
              "       [4.21902794e+01, 4.80205680e+04],\n",
              "       [4.18076397e+01, 7.95235748e+04],\n",
              "       [2.89448700e+01, 2.98994691e+04],\n",
              "       [3.10268869e+01, 3.53412715e+04],\n",
              "       [3.88067588e+01, 6.12989152e+04],\n",
              "       [3.23276139e+01, 3.89146345e+04],\n",
              "       [2.57092621e+01, 5.55648761e+04],\n",
              "       [4.33218399e+01, 5.99467138e+04],\n",
              "       [4.95562172e+01, 6.61547259e+04],\n",
              "       [3.36535297e+01, 5.58835779e+04],\n",
              "       [4.16986703e+01, 4.02140767e+04],\n",
              "       [4.29084570e+01, 5.58967506e+04],\n",
              "       [3.53065213e+01, 1.23189649e+04],\n",
              "       [3.82224063e+01, 4.12017892e+04],\n",
              "       [4.69952054e+01, 8.92275799e+04],\n",
              "       [3.71359218e+01, 5.17336572e+04],\n",
              "       [2.76038406e+01, 3.22423240e+04],\n",
              "       [2.94013181e+01, 5.07783390e+04],\n",
              "       [2.56496480e+01, 5.53300601e+04],\n",
              "       [2.05818871e+01, 2.68769710e+04],\n",
              "       [2.53644089e+01, 5.63138498e+04],\n",
              "       [4.64530762e+01, 7.04866635e+04],\n",
              "       [1.28660315e+01, 2.71482792e+04],\n",
              "       [2.46587450e+01, 3.65368270e+04],\n",
              "       [3.38919177e+01, 5.81877770e+04],\n",
              "       [4.15443044e+01, 5.57926985e+04],\n",
              "       [2.90580662e+01, 5.49696410e+04],\n",
              "       [2.31811889e+01, 4.23325529e+04],\n",
              "       [2.94935216e+01, 3.76118378e+04],\n",
              "       [4.84830316e+01, 6.64396506e+04],\n",
              "       [3.80050727e+01, 6.30045419e+04],\n",
              "       [1.89982488e+01, 5.08822378e+04],\n",
              "       [2.94545777e+01, 1.40077980e+04],\n",
              "       [3.27193725e+01, 3.83681890e+04],\n",
              "       [4.36229793e+01, 4.39387766e+04],\n",
              "       [4.40125057e+01, 6.28544185e+04],\n",
              "       [3.90490584e+01, 7.35165789e+04],\n",
              "       [3.98514304e+01, 9.49504212e+04],\n",
              "       [3.38398041e+01, 1.90319734e+04],\n",
              "       [2.10550822e+01, 5.80889013e+04],\n",
              "       [5.08758779e+01, 5.35622263e+04],\n",
              "       [4.41216767e+01, 5.55535748e+04],\n",
              "       [2.71781871e+01, 5.49945466e+04],\n",
              "       [3.93494331e+01, 7.34995525e+04],\n",
              "       [3.72133623e+01, 5.58372154e+04],\n",
              "       [1.86808045e+01, 9.25967472e+04],\n",
              "       [3.96055870e+01, 6.18209676e+04],\n",
              "       [3.78973797e+01, 6.02712819e+04],\n",
              "       [2.89218007e+01, 2.75120896e+04],\n",
              "       [2.65391702e+01, 3.17085705e+04],\n",
              "       [5.30494259e+01, 7.30433418e+04],\n",
              "       [3.91739534e+01, 7.79001814e+04],\n",
              "       [2.76748132e+01, 4.78163245e+04],\n",
              "       [2.97700309e+01, 7.25353009e+04],\n",
              "       [2.92274561e+01, 6.56770925e+04],\n",
              "       [2.24394882e+01, 3.59178482e+04],\n",
              "       [2.97517687e+01, 5.35573493e+04],\n",
              "       [3.69195856e+01, 6.16685598e+04],\n",
              "       [2.91566541e+01, 3.93942836e+04],\n",
              "       [2.94884279e+01, 2.59826755e+04],\n",
              "       [2.01683006e+01, 3.44984851e+04],\n",
              "       [1.56195277e+01, 3.15306152e+04],\n",
              "       [4.46762203e+01, 5.72179996e+04],\n",
              "       [3.33001853e+01, 6.66053872e+04],\n",
              "       [3.14376244e+01, 7.55202631e+04],\n",
              "       [2.77068380e+01, 4.86595672e+04],\n",
              "       [4.70705902e+01, 8.07098390e+04],\n",
              "       [5.40029692e+01, 4.43733982e+04],\n",
              "       [4.17010252e+01, 8.05431056e+04],\n",
              "       [3.31447033e+01, 8.26938135e+04],\n",
              "       [2.47096188e+01, 6.96708045e+04],\n",
              "       [4.09839628e+01, 4.55914541e+04],\n",
              "       [3.26617715e+01, 7.50111592e+04],\n",
              "       [3.93612268e+01, 8.09091834e+04],\n",
              "       [3.71732810e+01, 6.31006724e+04],\n",
              "       [2.94639341e+01, 5.08829401e+04],\n",
              "       [7.76437276e+00, 3.42211151e+04],\n",
              "       [2.48281717e+01, 4.31269171e+04],\n",
              "       [2.76704795e+01, 3.99315375e+03],\n",
              "       [2.60097999e+01, 3.69483513e+04],\n",
              "       [3.44856335e+01, 2.26044144e+04],\n",
              "       [2.53912830e+01, 4.76459332e+04],\n",
              "       [3.12675209e+01, 4.19415935e+04],\n",
              "       [3.03885345e+01, 3.34878539e+04],\n",
              "       [2.40435827e+01, 3.64747097e+04],\n",
              "       [2.36539263e+01, 2.98081136e+04],\n",
              "       [2.69134953e+01, 6.14184478e+04],\n",
              "       [5.02727593e+01, 7.53052538e+04],\n",
              "       [4.04586230e+01, 5.39662825e+04],\n",
              "       [2.29596116e+01, 3.50480614e+04],\n",
              "       [3.15791966e+01, 3.34654615e+04],\n",
              "       [3.60573969e+01, 6.52029101e+04],\n",
              "       [1.99109736e+01, 3.28945211e+04],\n",
              "       [3.19394817e+01, 1.85545163e+04],\n",
              "       [3.36468646e+01, 3.22937462e+04],\n",
              "       [3.04340351e+01, 4.04468480e+04],\n",
              "       [2.73395507e+01, 4.15569623e+04],\n",
              "       [3.30530972e+01, 7.43293176e+04],\n",
              "       [3.01727926e+01, 1.87769570e+04],\n",
              "       [3.50974580e+01, 6.96371438e+04],\n",
              "       [3.70851050e+01, 9.15689722e+04],\n",
              "       [3.55537203e+01, 7.11092738e+04],\n",
              "       [5.00446542e+01, 6.94613272e+04],\n",
              "       [4.45002065e+01, 5.21402841e+04],\n",
              "       [2.52497547e+01, 3.09207978e+04],\n",
              "       [3.39072519e+01, 7.76114340e+04],\n",
              "       [4.83499305e+01, 5.50066401e+04],\n",
              "       [3.18131530e+01, 3.56996891e+04],\n",
              "       [4.22533442e+01, 6.65640357e+04],\n",
              "       [3.46248290e+01, 6.16963336e+04],\n",
              "       [3.58261948e+01, 3.87047313e+04],\n",
              "       [1.90532074e+01, 4.75509553e+04],\n",
              "       [4.99687325e+01, 7.18439705e+04],\n",
              "       [3.66936068e+01, 8.48196717e+04],\n",
              "       [2.39730129e+01, 2.57108564e+04],\n",
              "       [1.56496290e+01, 4.87558908e+04],\n",
              "       [2.64102406e+01, 5.53887145e+04],\n",
              "       [3.49045688e+01, 5.58649643e+04],\n",
              "       [1.99366738e+01, 3.42637885e+04],\n",
              "       [2.85502371e+01, 3.66215980e+04],\n",
              "       [3.72784531e+01, 5.01587456e+04],\n",
              "       [3.76740583e+01, 6.20344860e+04],\n",
              "       [4.17687666e+01, 4.75629084e+04],\n",
              "       [3.33490368e+01, 5.20209165e+04],\n",
              "       [3.85916733e+01, 5.45242749e+04],\n",
              "       [2.94593914e+01, 3.70891522e+04],\n",
              "       [4.20103219e+01, 6.20454180e+04],\n",
              "       [3.49622578e+01, 6.00742374e+04],\n",
              "       [2.72932799e+01, 5.25870476e+04],\n",
              "       [2.35566757e+01, 4.30725675e+04],\n",
              "       [2.78047431e+01, 3.86511302e+04],\n",
              "       [4.13595971e+01, 7.31578464e+04],\n",
              "       [4.03144981e+01, 3.16240643e+04],\n",
              "       [3.19961024e+01, 4.24196598e+04],\n",
              "       [4.24895681e+01, 6.80543470e+04],\n",
              "       [2.24365194e+01, 5.28514987e+04],\n",
              "       [2.96873619e+01, 4.10988788e+04],\n",
              "       [4.07604306e+01, 6.09654312e+04],\n",
              "       [3.34374530e+01, 4.17738614e+04],\n",
              "       [2.76596200e+01, 1.98624079e+04],\n",
              "       [3.39976171e+01, 3.82732827e+04],\n",
              "       [2.45302413e+01, 5.20680244e+04],\n",
              "       [3.07828560e+01, 2.63116347e+04],\n",
              "       [2.74038095e+01, 4.80260228e+04],\n",
              "       [4.21512391e+01, 2.43257387e+04]])"
            ]
          },
          "metadata": {},
          "execution_count": 19
        }
      ]
    },
    {
      "cell_type": "markdown",
      "metadata": {
        "id": "4TowxGQDSWGh"
      },
      "source": [
        "# Feature Scaling"
      ]
    },
    {
      "cell_type": "code",
      "metadata": {
        "id": "LtoEGq4cSZA-"
      },
      "source": [
        "from sklearn.preprocessing import StandardScaler\n",
        "sc = StandardScaler()\n",
        "X_train = sc.fit_transform(X_train)\n",
        "X_test = sc.transform(X_test)"
      ],
      "execution_count": 20,
      "outputs": []
    },
    {
      "cell_type": "markdown",
      "metadata": {
        "id": "k4mZsBOki5MV"
      },
      "source": [
        "# Training the dataset"
      ]
    },
    {
      "cell_type": "code",
      "metadata": {
        "colab": {
          "base_uri": "https://localhost:8080/"
        },
        "id": "DYP46Uxji9XO",
        "outputId": "a8ca99c0-942d-48f3-c9cf-7796fe2be0d3"
      },
      "source": [
        "from sklearn.linear_model import LogisticRegression\n",
        "classifier = LogisticRegression(random_state = 0)\n",
        "classifier.fit(X_train, y_train)"
      ],
      "execution_count": 21,
      "outputs": [
        {
          "output_type": "execute_result",
          "data": {
            "text/plain": [
              "LogisticRegression(random_state=0)"
            ]
          },
          "metadata": {},
          "execution_count": 21
        }
      ]
    },
    {
      "cell_type": "markdown",
      "metadata": {
        "id": "HbDI0S3fSlo_"
      },
      "source": [
        "# Predicting the test set Result"
      ]
    },
    {
      "cell_type": "code",
      "metadata": {
        "colab": {
          "base_uri": "https://localhost:8080/"
        },
        "id": "jLKUYo4W-6bq",
        "outputId": "b8457836-0e1d-44b8-97f4-93cd874fdb62"
      },
      "source": [
        "y_pred_train = classifier.predict(X_train)\n",
        "print(np.concatenate((y_pred_train.reshape(len(y_pred_train),1), y_train.reshape(len(y_train),1)),1))"
      ],
      "execution_count": 22,
      "outputs": [
        {
          "output_type": "stream",
          "name": "stdout",
          "text": [
            "[[1 1]\n",
            " [1 1]\n",
            " [0 0]\n",
            " [0 0]\n",
            " [1 1]\n",
            " [0 0]\n",
            " [1 1]\n",
            " [0 0]\n",
            " [0 0]\n",
            " [0 0]\n",
            " [0 0]\n",
            " [0 0]\n",
            " [1 0]\n",
            " [0 0]\n",
            " [1 0]\n",
            " [1 1]\n",
            " [0 0]\n",
            " [1 0]\n",
            " [1 1]\n",
            " [1 1]\n",
            " [0 0]\n",
            " [1 1]\n",
            " [1 1]\n",
            " [1 1]\n",
            " [1 1]\n",
            " [1 1]\n",
            " [0 0]\n",
            " [0 0]\n",
            " [0 0]\n",
            " [0 0]\n",
            " [1 1]\n",
            " [1 1]\n",
            " [0 0]\n",
            " [1 1]\n",
            " [1 1]\n",
            " [0 0]\n",
            " [0 0]\n",
            " [1 1]\n",
            " [1 1]\n",
            " [1 1]\n",
            " [1 1]\n",
            " [1 1]\n",
            " [1 1]\n",
            " [1 1]\n",
            " [1 1]\n",
            " [0 0]\n",
            " [1 1]\n",
            " [0 0]\n",
            " [1 1]\n",
            " [0 0]\n",
            " [0 0]\n",
            " [0 0]\n",
            " [0 0]\n",
            " [0 0]\n",
            " [0 0]\n",
            " [1 1]\n",
            " [0 0]\n",
            " [0 0]\n",
            " [1 1]\n",
            " [0 0]\n",
            " [1 1]\n",
            " [1 1]\n",
            " [1 1]\n",
            " [0 0]\n",
            " [0 0]\n",
            " [0 0]\n",
            " [1 0]\n",
            " [0 0]\n",
            " [0 0]\n",
            " [1 1]\n",
            " [1 1]\n",
            " [1 1]\n",
            " [1 1]\n",
            " [1 1]\n",
            " [1 1]\n",
            " [1 1]\n",
            " [1 1]\n",
            " [0 0]\n",
            " [0 0]\n",
            " [1 0]\n",
            " [1 1]\n",
            " [0 0]\n",
            " [1 1]\n",
            " [0 0]\n",
            " [1 1]\n",
            " [1 1]\n",
            " [0 0]\n",
            " [0 0]\n",
            " [0 0]\n",
            " [0 0]\n",
            " [1 1]\n",
            " [0 0]\n",
            " [0 0]\n",
            " [1 1]\n",
            " [1 1]\n",
            " [1 1]\n",
            " [1 1]\n",
            " [1 1]\n",
            " [0 1]\n",
            " [1 1]\n",
            " [0 0]\n",
            " [1 1]\n",
            " [0 0]\n",
            " [1 1]\n",
            " [1 1]\n",
            " [0 0]\n",
            " [0 0]\n",
            " [1 1]\n",
            " [1 1]\n",
            " [1 1]\n",
            " [1 1]\n",
            " [1 1]\n",
            " [1 1]\n",
            " [1 1]\n",
            " [0 1]\n",
            " [1 1]\n",
            " [1 1]\n",
            " [0 0]\n",
            " [0 0]\n",
            " [0 0]\n",
            " [0 0]\n",
            " [0 0]\n",
            " [1 1]\n",
            " [0 0]\n",
            " [0 0]\n",
            " [0 0]\n",
            " [1 1]\n",
            " [1 0]\n",
            " [0 0]\n",
            " [0 0]\n",
            " [1 1]\n",
            " [1 1]\n",
            " [0 0]\n",
            " [1 1]\n",
            " [0 0]\n",
            " [0 0]\n",
            " [0 0]\n",
            " [0 0]\n",
            " [0 0]\n",
            " [1 1]\n",
            " [0 0]\n",
            " [0 0]\n",
            " [1 1]\n",
            " [1 1]\n",
            " [1 1]\n",
            " [1 1]\n",
            " [0 0]\n",
            " [1 1]\n",
            " [1 1]\n",
            " [1 1]\n",
            " [0 0]\n",
            " [1 1]\n",
            " [0 0]\n",
            " [1 1]\n",
            " [0 0]\n",
            " [1 1]\n",
            " [1 1]\n",
            " [1 1]\n",
            " [0 0]\n",
            " [0 0]\n",
            " [1 1]\n",
            " [0 0]\n",
            " [1 1]\n",
            " [0 0]\n",
            " [1 1]\n",
            " [1 1]\n",
            " [0 1]\n",
            " [1 1]\n",
            " [0 0]\n",
            " [1 1]\n",
            " [0 1]\n",
            " [0 0]\n",
            " [1 1]\n",
            " [1 1]\n",
            " [1 1]\n",
            " [1 1]\n",
            " [0 0]\n",
            " [1 1]\n",
            " [1 1]\n",
            " [1 1]\n",
            " [0 0]\n",
            " [0 0]\n",
            " [1 1]\n",
            " [1 1]\n",
            " [0 0]\n",
            " [0 0]\n",
            " [1 1]\n",
            " [0 0]\n",
            " [1 1]\n",
            " [1 1]\n",
            " [0 0]\n",
            " [1 1]\n",
            " [0 1]\n",
            " [1 1]\n",
            " [1 0]\n",
            " [1 1]\n",
            " [1 1]\n",
            " [1 1]\n",
            " [0 0]\n",
            " [0 0]\n",
            " [0 0]\n",
            " [0 0]\n",
            " [0 0]\n",
            " [1 1]\n",
            " [1 1]\n",
            " [1 1]\n",
            " [1 1]\n",
            " [1 1]\n",
            " [0 0]\n",
            " [1 1]\n",
            " [0 0]\n",
            " [0 0]\n",
            " [0 0]\n",
            " [0 0]\n",
            " [0 0]\n",
            " [1 1]\n",
            " [1 1]\n",
            " [1 1]\n",
            " [0 0]\n",
            " [0 0]\n",
            " [0 0]\n",
            " [0 0]\n",
            " [0 0]\n",
            " [1 1]\n",
            " [0 0]\n",
            " [0 0]\n",
            " [1 1]\n",
            " [0 0]\n",
            " [1 1]\n",
            " [1 1]\n",
            " [1 1]\n",
            " [0 0]\n",
            " [0 0]\n",
            " [1 1]\n",
            " [0 0]\n",
            " [0 0]\n",
            " [1 1]\n",
            " [1 1]\n",
            " [1 0]\n",
            " [1 1]\n",
            " [1 1]\n",
            " [0 0]\n",
            " [1 1]\n",
            " [1 1]\n",
            " [1 1]\n",
            " [0 0]\n",
            " [0 0]\n",
            " [0 0]\n",
            " [0 0]\n",
            " [0 0]\n",
            " [1 1]\n",
            " [0 0]\n",
            " [0 0]\n",
            " [1 0]\n",
            " [1 1]\n",
            " [0 0]\n",
            " [0 0]\n",
            " [0 0]\n",
            " [1 1]\n",
            " [1 1]\n",
            " [0 0]\n",
            " [0 0]\n",
            " [0 0]\n",
            " [1 0]\n",
            " [1 1]\n",
            " [1 1]\n",
            " [1 1]\n",
            " [0 0]\n",
            " [0 0]\n",
            " [1 1]\n",
            " [1 1]\n",
            " [0 0]\n",
            " [1 1]\n",
            " [1 1]\n",
            " [1 1]\n",
            " [1 1]\n",
            " [1 1]\n",
            " [0 0]\n",
            " [0 0]\n",
            " [1 1]\n",
            " [1 1]\n",
            " [0 0]\n",
            " [1 1]\n",
            " [1 1]\n",
            " [0 0]\n",
            " [0 0]\n",
            " [1 1]\n",
            " [0 0]\n",
            " [0 0]\n",
            " [0 0]\n",
            " [0 0]\n",
            " [1 1]\n",
            " [1 0]\n",
            " [1 0]\n",
            " [0 0]\n",
            " [1 1]\n",
            " [1 1]\n",
            " [1 1]\n",
            " [1 1]\n",
            " [0 1]\n",
            " [1 1]\n",
            " [1 1]\n",
            " [1 1]\n",
            " [1 1]\n",
            " [0 0]\n",
            " [0 0]\n",
            " [0 0]\n",
            " [0 0]\n",
            " [0 0]\n",
            " [0 0]\n",
            " [0 0]\n",
            " [0 0]\n",
            " [0 0]\n",
            " [0 1]\n",
            " [0 0]\n",
            " [0 0]\n",
            " [1 1]\n",
            " [1 1]\n",
            " [0 0]\n",
            " [0 0]\n",
            " [1 1]\n",
            " [0 0]\n",
            " [0 0]\n",
            " [0 0]\n",
            " [0 0]\n",
            " [0 0]\n",
            " [1 1]\n",
            " [0 0]\n",
            " [1 1]\n",
            " [1 1]\n",
            " [1 1]\n",
            " [1 1]\n",
            " [1 1]\n",
            " [0 0]\n",
            " [1 1]\n",
            " [1 1]\n",
            " [0 0]\n",
            " [1 1]\n",
            " [1 1]\n",
            " [0 0]\n",
            " [0 0]\n",
            " [1 1]\n",
            " [1 1]\n",
            " [0 0]\n",
            " [0 0]\n",
            " [0 0]\n",
            " [1 0]\n",
            " [0 0]\n",
            " [0 0]\n",
            " [1 0]\n",
            " [1 1]\n",
            " [1 1]\n",
            " [0 1]\n",
            " [1 1]\n",
            " [0 0]\n",
            " [1 1]\n",
            " [1 1]\n",
            " [0 1]\n",
            " [0 0]\n",
            " [0 0]\n",
            " [1 1]\n",
            " [0 0]\n",
            " [0 0]\n",
            " [1 1]\n",
            " [0 0]\n",
            " [0 0]\n",
            " [1 1]\n",
            " [0 0]\n",
            " [0 0]\n",
            " [0 0]\n",
            " [0 0]\n",
            " [0 0]\n",
            " [0 0]\n",
            " [0 1]]\n"
          ]
        }
      ]
    },
    {
      "cell_type": "code",
      "metadata": {
        "colab": {
          "base_uri": "https://localhost:8080/"
        },
        "id": "BAXNyV1iSlKl",
        "outputId": "be9ee123-ed7a-41ce-9e95-ace096568d86"
      },
      "source": [
        "y_pred = classifier.predict(X_test)\n",
        "print(np.concatenate((y_pred.reshape(len(y_pred),1), y_test.reshape(len(y_test),1)),1))"
      ],
      "execution_count": 23,
      "outputs": [
        {
          "output_type": "stream",
          "name": "stdout",
          "text": [
            "[[1 1]\n",
            " [0 1]\n",
            " [0 0]\n",
            " [0 1]\n",
            " [1 1]\n",
            " [0 0]\n",
            " [0 0]\n",
            " [0 0]\n",
            " [0 1]\n",
            " [0 0]\n",
            " [0 0]\n",
            " [1 1]\n",
            " [1 0]\n",
            " [1 1]\n",
            " [1 1]\n",
            " [0 0]\n",
            " [0 0]\n",
            " [0 0]\n",
            " [1 1]\n",
            " [1 1]\n",
            " [1 1]\n",
            " [0 0]\n",
            " [1 0]\n",
            " [1 1]\n",
            " [0 0]\n",
            " [1 0]\n",
            " [0 0]\n",
            " [0 0]\n",
            " [0 1]\n",
            " [0 1]\n",
            " [1 1]\n",
            " [1 1]\n",
            " [0 0]\n",
            " [0 0]\n",
            " [0 0]\n",
            " [1 1]\n",
            " [0 0]\n",
            " [1 1]\n",
            " [1 1]\n",
            " [0 0]\n",
            " [1 1]\n",
            " [0 1]\n",
            " [0 0]\n",
            " [0 0]\n",
            " [0 0]\n",
            " [1 1]\n",
            " [0 0]\n",
            " [1 1]\n",
            " [0 0]\n",
            " [0 1]\n",
            " [1 1]\n",
            " [1 1]\n",
            " [1 1]\n",
            " [1 1]\n",
            " [1 1]\n",
            " [0 0]\n",
            " [0 0]\n",
            " [1 1]\n",
            " [1 1]\n",
            " [1 1]\n",
            " [0 0]\n",
            " [0 0]\n",
            " [1 1]\n",
            " [1 1]\n",
            " [0 0]\n",
            " [1 1]\n",
            " [1 0]\n",
            " [0 0]\n",
            " [1 1]\n",
            " [1 1]\n",
            " [0 0]\n",
            " [1 1]\n",
            " [0 0]\n",
            " [0 0]\n",
            " [0 0]\n",
            " [0 0]\n",
            " [0 0]\n",
            " [0 1]\n",
            " [1 1]\n",
            " [1 0]\n",
            " [0 0]\n",
            " [0 0]\n",
            " [0 0]\n",
            " [0 0]\n",
            " [0 0]\n",
            " [1 1]\n",
            " [1 1]\n",
            " [1 1]\n",
            " [1 1]\n",
            " [1 1]\n",
            " [1 1]\n",
            " [0 0]\n",
            " [1 1]\n",
            " [1 1]\n",
            " [0 0]\n",
            " [1 1]\n",
            " [0 0]\n",
            " [0 1]\n",
            " [1 1]\n",
            " [1 1]\n",
            " [1 1]\n",
            " [1 1]\n",
            " [1 1]\n",
            " [1 0]\n",
            " [1 1]\n",
            " [0 0]\n",
            " [1 1]\n",
            " [1 1]\n",
            " [1 0]\n",
            " [0 0]\n",
            " [1 1]\n",
            " [0 0]\n",
            " [0 0]\n",
            " [0 1]\n",
            " [1 0]\n",
            " [0 0]\n",
            " [1 1]\n",
            " [0 1]\n",
            " [1 1]\n",
            " [0 0]\n",
            " [0 0]\n",
            " [0 1]\n",
            " [0 0]\n",
            " [0 0]\n",
            " [0 0]]\n"
          ]
        }
      ]
    },
    {
      "cell_type": "markdown",
      "metadata": {
        "id": "q31TmxGCSuIX"
      },
      "source": [
        "# Make Confusion Matrix"
      ]
    },
    {
      "cell_type": "code",
      "metadata": {
        "colab": {
          "base_uri": "https://localhost:8080/"
        },
        "id": "FN2kr5hGAL9v",
        "outputId": "6307b1b2-f536-4164-daab-4d4f6f49514e"
      },
      "source": [
        "from sklearn.metrics import confusion_matrix, accuracy_score\n",
        "cm_1 = confusion_matrix(y_train, y_pred_train)\n",
        "print(cm_1)\n",
        "accuracy_score(y_train, y_pred_train)"
      ],
      "execution_count": 24,
      "outputs": [
        {
          "output_type": "stream",
          "name": "stdout",
          "text": [
            "[[174  14]\n",
            " [ 10 176]]\n"
          ]
        },
        {
          "output_type": "execute_result",
          "data": {
            "text/plain": [
              "0.9358288770053476"
            ]
          },
          "metadata": {},
          "execution_count": 24
        }
      ]
    },
    {
      "cell_type": "code",
      "metadata": {
        "colab": {
          "base_uri": "https://localhost:8080/"
        },
        "id": "yush-LL5Sw66",
        "outputId": "04c2816f-327f-47bd-bc18-426e7c974ea9"
      },
      "source": [
        "from sklearn.metrics import confusion_matrix, accuracy_score\n",
        "cm = confusion_matrix(y_test, y_pred)\n",
        "print(cm)\n",
        "accuracy_score(y_test, y_pred)"
      ],
      "execution_count": 25,
      "outputs": [
        {
          "output_type": "stream",
          "name": "stdout",
          "text": [
            "[[53  8]\n",
            " [12 52]]\n"
          ]
        },
        {
          "output_type": "execute_result",
          "data": {
            "text/plain": [
              "0.84"
            ]
          },
          "metadata": {},
          "execution_count": 25
        }
      ]
    },
    {
      "cell_type": "code",
      "metadata": {
        "id": "dkAMA1gQAfgf"
      },
      "source": [
        "\n"
      ],
      "execution_count": 25,
      "outputs": []
    },
    {
      "cell_type": "code",
      "metadata": {
        "colab": {
          "base_uri": "https://localhost:8080/",
          "height": 282
        },
        "id": "5dWX8Z1TjmNq",
        "outputId": "c280d342-5c37-4202-c88d-4b2f856685b4"
      },
      "source": [
        "from sklearn.metrics import classification_report\n",
        "sns.heatmap(cm_1, annot= True, fmt = 'd')"
      ],
      "execution_count": 26,
      "outputs": [
        {
          "output_type": "execute_result",
          "data": {
            "text/plain": [
              "<matplotlib.axes._subplots.AxesSubplot at 0x7f6536a52bd0>"
            ]
          },
          "metadata": {},
          "execution_count": 26
        },
        {
          "output_type": "display_data",
          "data": {
            "text/plain": [
              "<Figure size 432x288 with 2 Axes>"
            ],
            "image/png": "[encoded data removed]"
          },
          "metadata": {
            "needs_background": "light"
          }
        }
      ]
    },
    {
      "cell_type": "code",
      "metadata": {
        "colab": {
          "base_uri": "https://localhost:8080/"
        },
        "id": "aVEAxR7NAxeg",
        "outputId": "5fb5cb1e-39a5-4d22-b623-8bb1a9d888bc"
      },
      "source": [
        "print(classification_report(y_train, y_pred_train))"
      ],
      "execution_count": 27,
      "outputs": [
        {
          "output_type": "stream",
          "name": "stdout",
          "text": [
            "              precision    recall  f1-score   support\n",
            "\n",
            "           0       0.95      0.93      0.94       188\n",
            "           1       0.93      0.95      0.94       186\n",
            "\n",
            "    accuracy                           0.94       374\n",
            "   macro avg       0.94      0.94      0.94       374\n",
            "weighted avg       0.94      0.94      0.94       374\n",
            "\n"
          ]
        }
      ]
    },
    {
      "cell_type": "code",
      "metadata": {
        "colab": {
          "base_uri": "https://localhost:8080/"
        },
        "id": "oK1CkUObkHBJ",
        "outputId": "8a74f198-8513-4aed-ff1c-fcb86ba49e9c"
      },
      "source": [
        "print(classification_report(y_test, y_pred))"
      ],
      "execution_count": 28,
      "outputs": [
        {
          "output_type": "stream",
          "name": "stdout",
          "text": [
            "              precision    recall  f1-score   support\n",
            "\n",
            "           0       0.82      0.87      0.84        61\n",
            "           1       0.87      0.81      0.84        64\n",
            "\n",
            "    accuracy                           0.84       125\n",
            "   macro avg       0.84      0.84      0.84       125\n",
            "weighted avg       0.84      0.84      0.84       125\n",
            "\n"
          ]
        }
      ]
    },
    {
      "cell_type": "markdown",
      "metadata": {
        "id": "xhIjtVE7uzht"
      },
      "source": [
        "# Visualisation on training set"
      ]
    },
    {
      "cell_type": "code",
      "metadata": {
        "colab": {
          "base_uri": "https://localhost:8080/",
          "height": 336
        },
        "id": "qQeOl2AmkvBV",
        "outputId": "ec6f7c67-b158-4ac7-e92c-de9a371ae334"
      },
      "source": [
        "from matplotlib.colors import ListedColormap\n",
        "X_set, y_set = sc.inverse_transform(X_train), y_train\n",
        "X1, X2 = np.meshgrid(np.arange(start = X_set[:, 0].min() - 10, stop = X_set[:, 0].max() + 10, step = 0.25),\n",
        "                     np.arange(start = X_set[:, 1].min() - 1000, stop = X_set[:, 1].max() + 1000, step = 0.25))\n",
        "plt.contourf(X1, X2, classifier.predict(sc.transform(np.array([X1.ravel(), X2.ravel()]).T)).reshape(X1.shape),\n",
        "             alpha = 0.75, cmap = ListedColormap(('red', 'green')))\n",
        "plt.xlim(X1.min(), X1.max())\n",
        "plt.ylim(X2.min(), X2.max())\n",
        "for i, j in enumerate(np.unique(y_set)):\n",
        "    plt.scatter(X_set[y_set == j, 0], X_set[y_set == j, 1], c = ListedColormap(('red', 'green'))(i), label = j)\n",
        "plt.title('Facebook Ads (Training set)')\n",
        "plt.legend()\n",
        "plt.show()"
      ],
      "execution_count": 29,
      "outputs": [
        {
          "output_type": "stream",
          "name": "stderr",
          "text": [
            "*c* argument looks like a single numeric RGB or RGBA sequence, which should be avoided as value-mapping will have precedence in case its length matches with *x* & *y*.  Please use the *color* keyword-argument or provide a 2-D array with a single row if you intend to specify the same RGB or RGBA value for all points.\n",
            "*c* argument looks like a single numeric RGB or RGBA sequence, which should be avoided as value-mapping will have precedence in case its length matches with *x* & *y*.  Please use the *color* keyword-argument or provide a 2-D array with a single row if you intend to specify the same RGB or RGBA value for all points.\n"
          ]
        },
        {
          "output_type": "display_data",
          "data": {
            "text/plain": [
              "<Figure size 432x288 with 1 Axes>"
            ],
            "image/png": "[encoded data removed]"
          },
          "metadata": {
            "needs_background": "light"
          }
        }
      ]
    },
    {
      "cell_type": "code",
      "metadata": {
        "colab": {
          "base_uri": "https://localhost:8080/",
          "height": 336
        },
        "id": "jnHqto2AB5ng",
        "outputId": "8784b7c9-938b-407e-9367-b9e42cf30e58"
      },
      "source": [
        "from matplotlib.colors import ListedColormap\n",
        "X_set, y_set = sc.inverse_transform(X_test), y_test\n",
        "X1, X2 = np.meshgrid(np.arange(start = X_set[:, 0].min() - 10, stop = X_set[:, 0].max() + 10, step = 0.25),\n",
        "                     np.arange(start = X_set[:, 1].min() - 1000, stop = X_set[:, 1].max() + 1000, step = 0.25))\n",
        "plt.contourf(X1, X2, classifier.predict(sc.transform(np.array([X1.ravel(), X2.ravel()]).T)).reshape(X1.shape),\n",
        "             alpha = 0.75, cmap = ListedColormap(('red', 'green')))\n",
        "plt.xlim(X1.min(), X1.max())\n",
        "plt.ylim(X2.min(), X2.max())\n",
        "for i, j in enumerate(np.unique(y_set)):\n",
        "    plt.scatter(X_set[y_set == j, 0], X_set[y_set == j, 1], c = ListedColormap(('red', 'green'))(i), label = j)\n",
        "plt.title('Facebook Ads (Test set)')\n",
        "plt.legend()\n",
        "plt.show()"
      ],
      "execution_count": 30,
      "outputs": [
        {
          "output_type": "stream",
          "name": "stderr",
          "text": [
            "*c* argument looks like a single numeric RGB or RGBA sequence, which should be avoided as value-mapping will have precedence in case its length matches with *x* & *y*.  Please use the *color* keyword-argument or provide a 2-D array with a single row if you intend to specify the same RGB or RGBA value for all points.\n",
            "*c* argument looks like a single numeric RGB or RGBA sequence, which should be avoided as value-mapping will have precedence in case its length matches with *x* & *y*.  Please use the *color* keyword-argument or provide a 2-D array with a single row if you intend to specify the same RGB or RGBA value for all points.\n"
          ]
        },
        {
          "output_type": "display_data",
          "data": {
            "text/plain": [
              "<Figure size 432x288 with 1 Axes>"
            ],
            "image/png": "[encoded data removed]"
          },
          "metadata": {
            "needs_background": "light"
          }
        }
      ]
    }
  ]
}